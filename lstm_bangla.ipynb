{
  "nbformat": 4,
  "nbformat_minor": 0,
  "metadata": {
    "colab": {
      "name": "lstm-bangla.ipynb",
      "provenance": []
    },
    "kernelspec": {
      "name": "python3",
      "display_name": "Python 3"
    }
  },
  "cells": [
    {
      "cell_type": "code",
      "metadata": {
        "id": "UV0oTCUmOZ0c"
      },
      "source": [
        "import logging\n",
        "import pandas as pd\n",
        "import numpy as np\n",
        "from numpy import random\n",
        "import gensim\n",
        "import nltk\n",
        "from sklearn.model_selection import train_test_split\n",
        "from sklearn.feature_extraction.text import CountVectorizer, TfidfVectorizer\n",
        "from sklearn.metrics import accuracy_score, confusion_matrix\n",
        "import matplotlib.pyplot as plt\n",
        "import re\n",
        "from keras.preprocessing.text import Tokenizer\n",
        "from keras.preprocessing.sequence import pad_sequences\n",
        "from keras.models import Sequential\n",
        "from keras.layers import LSTM, Dense, Embedding, SpatialDropout1D, Dropout\n",
        "from keras.utils.np_utils import to_categorical\n",
        "from keras.utils import plot_model\n",
        "from keras.callbacks import EarlyStopping\n",
        "from keras.optimizers import Adam\n",
        "%matplotlib inline\n"
      ],
      "execution_count": null,
      "outputs": []
    },
    {
      "cell_type": "code",
      "metadata": {
        "colab": {
          "base_uri": "https://localhost:8080/"
        },
        "id": "K4DwCAZPZUAk",
        "outputId": "a65f7f8e-7dcf-41a2-d9ce-005fe9849fe1"
      },
      "source": [
        "df = pd.read_csv('/content/drive/MyDrive/Assignment/text-classification/dataset.csv', encoding='UTF-8')\n",
        "print(df.head(10))"
      ],
      "execution_count": null,
      "outputs": [
        {
          "output_type": "stream",
          "text": [
            "                                                Text Polarity  Unnamed: 2\n",
            "0  প্রকৃতি প্রেমী মানুষটি তার দোকানের নাম দিয়েছে...  Positive        NaN\n",
            "1                     নিঃশ্বাস জানান দিচ্ছে বেচে আছি   Neutral        NaN\n",
            "2  আপনাদেদ ভিডিও গুলো দেখে নতুন নতুন অনেক কিছু শে...  Positive        NaN\n",
            "3                  আপু আমি বানাইছি অনেক মজা হইছে....  Positive        NaN\n",
            "4                ছোট্ট পরীর আগমনে আমরাও খুব আনন্দিত।  Positive        NaN\n",
            "5  প্রিয় সাকিব ভাই ও তার বাবুদের নেক হায়াত কামনা ...  Positive        NaN\n",
            "6  কারা যেন বলছিল সাকিব দেশে আসলে করোনা নেগেটিভ হ...  Negative        NaN\n",
            "7  যাক এত বছর খালি আম্মু আমারে ই জমিদার বইলা আসছে...  Positive        NaN\n",
            "8                   দীর্ঘজীবি হোক আপনার পুরো পরিবার।  Positive        NaN\n",
            "9                    সাকিব দেখছি আমাদের মত নবাবজাদা।  Negative        NaN\n"
          ],
          "name": "stdout"
        }
      ]
    },
    {
      "cell_type": "code",
      "metadata": {
        "id": "r5CZ4niDRulj"
      },
      "source": [
        "df.drop('Unnamed: 2', axis=1, inplace=True)"
      ],
      "execution_count": null,
      "outputs": []
    },
    {
      "cell_type": "code",
      "metadata": {
        "colab": {
          "base_uri": "https://localhost:8080/",
          "height": 206
        },
        "id": "t_ZRIbVZir-E",
        "outputId": "f6e3a98e-80b6-4b4e-cbe1-f7212e87a038"
      },
      "source": [
        "df.head()"
      ],
      "execution_count": null,
      "outputs": [
        {
          "output_type": "execute_result",
          "data": {
            "text/html": [
              "<div>\n",
              "<style scoped>\n",
              "    .dataframe tbody tr th:only-of-type {\n",
              "        vertical-align: middle;\n",
              "    }\n",
              "\n",
              "    .dataframe tbody tr th {\n",
              "        vertical-align: top;\n",
              "    }\n",
              "\n",
              "    .dataframe thead th {\n",
              "        text-align: right;\n",
              "    }\n",
              "</style>\n",
              "<table border=\"1\" class=\"dataframe\">\n",
              "  <thead>\n",
              "    <tr style=\"text-align: right;\">\n",
              "      <th></th>\n",
              "      <th>Text</th>\n",
              "      <th>Polarity</th>\n",
              "    </tr>\n",
              "  </thead>\n",
              "  <tbody>\n",
              "    <tr>\n",
              "      <th>0</th>\n",
              "      <td>প্রকৃতি প্রেমী মানুষটি তার দোকানের নাম দিয়েছে...</td>\n",
              "      <td>Positive</td>\n",
              "    </tr>\n",
              "    <tr>\n",
              "      <th>1</th>\n",
              "      <td>নিঃশ্বাস জানান দিচ্ছে বেচে আছি</td>\n",
              "      <td>Neutral</td>\n",
              "    </tr>\n",
              "    <tr>\n",
              "      <th>2</th>\n",
              "      <td>আপনাদেদ ভিডিও গুলো দেখে নতুন নতুন অনেক কিছু শে...</td>\n",
              "      <td>Positive</td>\n",
              "    </tr>\n",
              "    <tr>\n",
              "      <th>3</th>\n",
              "      <td>আপু আমি বানাইছি অনেক মজা হইছে....</td>\n",
              "      <td>Positive</td>\n",
              "    </tr>\n",
              "    <tr>\n",
              "      <th>4</th>\n",
              "      <td>ছোট্ট পরীর আগমনে আমরাও খুব আনন্দিত।</td>\n",
              "      <td>Positive</td>\n",
              "    </tr>\n",
              "  </tbody>\n",
              "</table>\n",
              "</div>"
            ],
            "text/plain": [
              "                                                Text Polarity \n",
              "0  প্রকৃতি প্রেমী মানুষটি তার দোকানের নাম দিয়েছে...  Positive\n",
              "1                     নিঃশ্বাস জানান দিচ্ছে বেচে আছি   Neutral\n",
              "2  আপনাদেদ ভিডিও গুলো দেখে নতুন নতুন অনেক কিছু শে...  Positive\n",
              "3                  আপু আমি বানাইছি অনেক মজা হইছে....  Positive\n",
              "4                ছোট্ট পরীর আগমনে আমরাও খুব আনন্দিত।  Positive"
            ]
          },
          "metadata": {
            "tags": []
          },
          "execution_count": 4
        }
      ]
    },
    {
      "cell_type": "code",
      "metadata": {
        "id": "gRZOIMsfSGPq"
      },
      "source": [
        "df.rename(columns={\"Text\": \"Text\", \"Polarity \": \"Polarity\"}, inplace=True)"
      ],
      "execution_count": null,
      "outputs": []
    },
    {
      "cell_type": "code",
      "metadata": {
        "colab": {
          "base_uri": "https://localhost:8080/",
          "height": 206
        },
        "id": "3nZuAFh4Sp6K",
        "outputId": "6ef04603-7b57-4a10-eb3a-3091c25cb571"
      },
      "source": [
        "df.head()"
      ],
      "execution_count": null,
      "outputs": [
        {
          "output_type": "execute_result",
          "data": {
            "text/html": [
              "<div>\n",
              "<style scoped>\n",
              "    .dataframe tbody tr th:only-of-type {\n",
              "        vertical-align: middle;\n",
              "    }\n",
              "\n",
              "    .dataframe tbody tr th {\n",
              "        vertical-align: top;\n",
              "    }\n",
              "\n",
              "    .dataframe thead th {\n",
              "        text-align: right;\n",
              "    }\n",
              "</style>\n",
              "<table border=\"1\" class=\"dataframe\">\n",
              "  <thead>\n",
              "    <tr style=\"text-align: right;\">\n",
              "      <th></th>\n",
              "      <th>Text</th>\n",
              "      <th>Polarity</th>\n",
              "    </tr>\n",
              "  </thead>\n",
              "  <tbody>\n",
              "    <tr>\n",
              "      <th>0</th>\n",
              "      <td>প্রকৃতি প্রেমী মানুষটি তার দোকানের নাম দিয়েছে...</td>\n",
              "      <td>Positive</td>\n",
              "    </tr>\n",
              "    <tr>\n",
              "      <th>1</th>\n",
              "      <td>নিঃশ্বাস জানান দিচ্ছে বেচে আছি</td>\n",
              "      <td>Neutral</td>\n",
              "    </tr>\n",
              "    <tr>\n",
              "      <th>2</th>\n",
              "      <td>আপনাদেদ ভিডিও গুলো দেখে নতুন নতুন অনেক কিছু শে...</td>\n",
              "      <td>Positive</td>\n",
              "    </tr>\n",
              "    <tr>\n",
              "      <th>3</th>\n",
              "      <td>আপু আমি বানাইছি অনেক মজা হইছে....</td>\n",
              "      <td>Positive</td>\n",
              "    </tr>\n",
              "    <tr>\n",
              "      <th>4</th>\n",
              "      <td>ছোট্ট পরীর আগমনে আমরাও খুব আনন্দিত।</td>\n",
              "      <td>Positive</td>\n",
              "    </tr>\n",
              "  </tbody>\n",
              "</table>\n",
              "</div>"
            ],
            "text/plain": [
              "                                                Text  Polarity\n",
              "0  প্রকৃতি প্রেমী মানুষটি তার দোকানের নাম দিয়েছে...  Positive\n",
              "1                     নিঃশ্বাস জানান দিচ্ছে বেচে আছি   Neutral\n",
              "2  আপনাদেদ ভিডিও গুলো দেখে নতুন নতুন অনেক কিছু শে...  Positive\n",
              "3                  আপু আমি বানাইছি অনেক মজা হইছে....  Positive\n",
              "4                ছোট্ট পরীর আগমনে আমরাও খুব আনন্দিত।  Positive"
            ]
          },
          "metadata": {
            "tags": []
          },
          "execution_count": 6
        }
      ]
    },
    {
      "cell_type": "code",
      "metadata": {
        "id": "MaIXwW2KViDr"
      },
      "source": [
        "df.loc[df['Polarity'] == 'neutral', 'Polarity'] = 'Neutral'\n",
        "df.loc[df['Polarity'] == 'negative', 'Polarity'] = 'Negative'"
      ],
      "execution_count": null,
      "outputs": []
    },
    {
      "cell_type": "code",
      "metadata": {
        "colab": {
          "base_uri": "https://localhost:8080/",
          "height": 112
        },
        "id": "ZRf31WWwZb6F",
        "outputId": "836674f1-d680-4019-ba1c-f216a20b4503"
      },
      "source": [
        "df[df['Polarity'] == 'evenly_voted']"
      ],
      "execution_count": null,
      "outputs": [
        {
          "output_type": "execute_result",
          "data": {
            "text/html": [
              "<div>\n",
              "<style scoped>\n",
              "    .dataframe tbody tr th:only-of-type {\n",
              "        vertical-align: middle;\n",
              "    }\n",
              "\n",
              "    .dataframe tbody tr th {\n",
              "        vertical-align: top;\n",
              "    }\n",
              "\n",
              "    .dataframe thead th {\n",
              "        text-align: right;\n",
              "    }\n",
              "</style>\n",
              "<table border=\"1\" class=\"dataframe\">\n",
              "  <thead>\n",
              "    <tr style=\"text-align: right;\">\n",
              "      <th></th>\n",
              "      <th>Text</th>\n",
              "      <th>Polarity</th>\n",
              "    </tr>\n",
              "  </thead>\n",
              "  <tbody>\n",
              "    <tr>\n",
              "      <th>379</th>\n",
              "      <td>দয়া করে এই প্রডাক্টি দ্রুত ডেলিভারি দিন আর না...</td>\n",
              "      <td>evenly_voted</td>\n",
              "    </tr>\n",
              "    <tr>\n",
              "      <th>402</th>\n",
              "      <td>এই সময়ে জেনে-বুঝে, স্টাডি করে স্বল্পমেয়াদে ভাল...</td>\n",
              "      <td>evenly_voted</td>\n",
              "    </tr>\n",
              "  </tbody>\n",
              "</table>\n",
              "</div>"
            ],
            "text/plain": [
              "                                                  Text      Polarity\n",
              "379  দয়া করে এই প্রডাক্টি দ্রুত ডেলিভারি দিন আর না...  evenly_voted\n",
              "402  এই সময়ে জেনে-বুঝে, স্টাডি করে স্বল্পমেয়াদে ভাল...  evenly_voted"
            ]
          },
          "metadata": {
            "tags": []
          },
          "execution_count": 8
        }
      ]
    },
    {
      "cell_type": "code",
      "metadata": {
        "id": "n4r-gTpaZJ02"
      },
      "source": [
        "df.drop(labels=[379, 402], inplace=True)"
      ],
      "execution_count": null,
      "outputs": []
    },
    {
      "cell_type": "code",
      "metadata": {
        "colab": {
          "base_uri": "https://localhost:8080/"
        },
        "id": "akEZNdf-YN62",
        "outputId": "186ad5b5-1255-4bee-920d-13c41af6b720"
      },
      "source": [
        "df['Polarity'].value_counts()"
      ],
      "execution_count": null,
      "outputs": [
        {
          "output_type": "execute_result",
          "data": {
            "text/plain": [
              "Neutral     3179\n",
              "Positive    3141\n",
              "Negative    2214\n",
              "Name: Polarity, dtype: int64"
            ]
          },
          "metadata": {
            "tags": []
          },
          "execution_count": 10
        }
      ]
    },
    {
      "cell_type": "code",
      "metadata": {
        "id": "q8FEm6sRowoz"
      },
      "source": [
        "df['Text'] = df['Text'].astype(str)"
      ],
      "execution_count": null,
      "outputs": []
    },
    {
      "cell_type": "code",
      "metadata": {
        "id": "RmtacjSVowmP"
      },
      "source": [
        "max_fatures = 5000\n",
        "tokenizer = Tokenizer(num_words=max_fatures, split=' ')\n",
        "tokenizer.fit_on_texts(df['Text'].values)\n",
        "X = tokenizer.texts_to_sequences(df['Text'].values)\n",
        "X = pad_sequences(X)"
      ],
      "execution_count": null,
      "outputs": []
    },
    {
      "cell_type": "code",
      "metadata": {
        "colab": {
          "base_uri": "https://localhost:8080/"
        },
        "id": "qZb1hUwLUi-k",
        "outputId": "709a1e99-ef3b-4440-d246-b95a9e7b1dad"
      },
      "source": [
        "X[0]"
      ],
      "execution_count": null,
      "outputs": [
        {
          "output_type": "execute_result",
          "data": {
            "text/plain": [
              "array([   0,    0,    0,    0,    0,    0,    0,    0,    0,    0,    0,\n",
              "          0,    0,    0,    0,    0,    0,    0,    0, 2417,   40, 4136,\n",
              "        135], dtype=int32)"
            ]
          },
          "metadata": {
            "tags": []
          },
          "execution_count": 13
        }
      ]
    },
    {
      "cell_type": "code",
      "metadata": {
        "colab": {
          "base_uri": "https://localhost:8080/"
        },
        "id": "4Valyy6BsG6F",
        "outputId": "73bf1b7c-57c8-44f2-bf5e-7ec1700a63e3"
      },
      "source": [
        "np.shape(X)"
      ],
      "execution_count": null,
      "outputs": [
        {
          "output_type": "execute_result",
          "data": {
            "text/plain": [
              "(8537, 23)"
            ]
          },
          "metadata": {
            "tags": []
          },
          "execution_count": 14
        }
      ]
    },
    {
      "cell_type": "code",
      "metadata": {
        "id": "NIBOXt5MsG8t"
      },
      "source": [
        "embed_dim = 256\n",
        "model = Sequential()\n",
        "model.add(Embedding(max_fatures, embed_dim,input_length = X.shape[1]))\n",
        "model.add(SpatialDropout1D(0.4))\n",
        "model.add(LSTM(100, dropout=0.2, recurrent_dropout=0.2))\n",
        "model.add(Dense(3,activation='softmax'))\n",
        "model.compile(loss = 'categorical_crossentropy', optimizer='adam',metrics = ['acc'])"
      ],
      "execution_count": null,
      "outputs": []
    },
    {
      "cell_type": "code",
      "metadata": {
        "colab": {
          "base_uri": "https://localhost:8080/"
        },
        "id": "2TuVQt1FsG_Q",
        "outputId": "13e64cd1-89fd-4373-d954-d63149714caf"
      },
      "source": [
        "print(model.summary())"
      ],
      "execution_count": null,
      "outputs": [
        {
          "output_type": "stream",
          "text": [
            "Model: \"sequential_1\"\n",
            "_________________________________________________________________\n",
            "Layer (type)                 Output Shape              Param #   \n",
            "=================================================================\n",
            "embedding_1 (Embedding)      (None, 23, 256)           1280000   \n",
            "_________________________________________________________________\n",
            "spatial_dropout1d_1 (Spatial (None, 23, 256)           0         \n",
            "_________________________________________________________________\n",
            "lstm_1 (LSTM)                (None, 100)               142800    \n",
            "_________________________________________________________________\n",
            "dense_1 (Dense)              (None, 3)                 303       \n",
            "=================================================================\n",
            "Total params: 1,423,103\n",
            "Trainable params: 1,423,103\n",
            "Non-trainable params: 0\n",
            "_________________________________________________________________\n",
            "None\n"
          ],
          "name": "stdout"
        }
      ]
    },
    {
      "cell_type": "code",
      "metadata": {
        "colab": {
          "base_uri": "https://localhost:8080/",
          "height": 533
        },
        "id": "FxithEhzZELM",
        "outputId": "2c255fe6-a7a0-4ea9-cc4d-6828cc4f17f6"
      },
      "source": [
        "plot_model(model, to_file='model_plot4a.png', show_shapes=True, show_layer_names=True)"
      ],
      "execution_count": null,
      "outputs": [
        {
          "output_type": "execute_result",
          "data": {
            "image/png": "[encoded data removed]",
            "text/plain": [
              "<IPython.core.display.Image object>"
            ]
          },
          "metadata": {
            "tags": []
          },
          "execution_count": 41
        }
      ]
    },
    {
      "cell_type": "code",
      "metadata": {
        "colab": {
          "base_uri": "https://localhost:8080/"
        },
        "id": "Pkw1R8D8sHB8",
        "outputId": "2c6db186-f7ff-4211-84c1-99f2eee4410e"
      },
      "source": [
        "Y = pd.get_dummies(df['Polarity']).values\n",
        "X_train, X_test, Y_train, Y_test = train_test_split(X,Y, test_size = 0.20,random_state = 42)\n",
        "print(X_train.shape,Y_train.shape)\n",
        "print(X_test.shape,Y_test.shape)"
      ],
      "execution_count": null,
      "outputs": [
        {
          "output_type": "stream",
          "text": [
            "(6829, 23) (6829, 3)\n",
            "(1708, 23) (1708, 3)\n"
          ],
          "name": "stdout"
        }
      ]
    },
    {
      "cell_type": "code",
      "metadata": {
        "colab": {
          "base_uri": "https://localhost:8080/"
        },
        "id": "Rh3LyK9-V2Fu",
        "outputId": "fecf54f0-5be8-412e-92a6-61b8510bc614"
      },
      "source": [
        "df['Polarity'].value_counts()"
      ],
      "execution_count": null,
      "outputs": [
        {
          "output_type": "execute_result",
          "data": {
            "text/plain": [
              "Neutral     3179\n",
              "Positive    3141\n",
              "Negative    2214\n",
              "Name: Polarity, dtype: int64"
            ]
          },
          "metadata": {
            "tags": []
          },
          "execution_count": 43
        }
      ]
    },
    {
      "cell_type": "code",
      "metadata": {
        "colab": {
          "base_uri": "https://localhost:8080/"
        },
        "id": "xKnO36QXsHEk",
        "outputId": "05e8d3a2-ae8e-48d1-d3cb-9fb9432aa6c5"
      },
      "source": [
        "history = model.fit(\n",
        "    X_train, \n",
        "    Y_train, \n",
        "    epochs = 10, \n",
        "    batch_size=64, \n",
        "    verbose = 2,\n",
        "    validation_split=0.1,\n",
        "    callbacks=[EarlyStopping(monitor='val_loss', patience=3, min_delta=0.0001)]\n",
        ")"
      ],
      "execution_count": null,
      "outputs": [
        {
          "output_type": "stream",
          "text": [
            "Epoch 1/10\n",
            "97/97 - 12s - loss: 1.0115 - acc: 0.4769 - val_loss: 0.8877 - val_acc: 0.5725\n",
            "Epoch 2/10\n",
            "97/97 - 11s - loss: 0.7058 - acc: 0.6949 - val_loss: 0.7928 - val_acc: 0.6515\n",
            "Epoch 3/10\n",
            "97/97 - 11s - loss: 0.4848 - acc: 0.8078 - val_loss: 0.8510 - val_acc: 0.6486\n",
            "Epoch 4/10\n",
            "97/97 - 11s - loss: 0.3489 - acc: 0.8690 - val_loss: 0.9583 - val_acc: 0.6735\n",
            "Epoch 5/10\n",
            "97/97 - 11s - loss: 0.2678 - acc: 0.9003 - val_loss: 1.1106 - val_acc: 0.6559\n"
          ],
          "name": "stdout"
        }
      ]
    },
    {
      "cell_type": "code",
      "metadata": {
        "id": "lTaqFa_VsHH4",
        "colab": {
          "base_uri": "https://localhost:8080/"
        },
        "outputId": "c4984e48-f8da-4d6c-f6bd-f0e2d5c43bd2"
      },
      "source": [
        "score = model.evaluate(\n",
        "    X_train, \n",
        "    Y_train,\n",
        "    batch_size=64, \n",
        "    verbose=2\n",
        ")\n",
        "print('Train loss:', score[0])\n",
        "print('Train accuracy:', score[1])"
      ],
      "execution_count": null,
      "outputs": [
        {
          "output_type": "stream",
          "text": [
            "107/107 - 2s - loss: 0.2535 - acc: 0.9206\n",
            "Train loss: 0.2534896433353424\n",
            "Train accuracy: 0.9206326007843018\n"
          ],
          "name": "stdout"
        }
      ]
    },
    {
      "cell_type": "code",
      "metadata": {
        "colab": {
          "base_uri": "https://localhost:8080/"
        },
        "id": "XMtZv_D3at7Y",
        "outputId": "5126a912-1686-4aea-a154-6da66349ace2"
      },
      "source": [
        "score = model.evaluate(\n",
        "    X_test, \n",
        "    Y_test,\n",
        "    batch_size=64, \n",
        "    verbose=2\n",
        ")\n",
        "print('Test loss:', score[0])\n",
        "print('Test accuracy:', score[1])"
      ],
      "execution_count": null,
      "outputs": [
        {
          "output_type": "stream",
          "text": [
            "27/27 - 0s - loss: 1.2224 - acc: 0.6218\n",
            "Test loss: 1.222408413887024\n",
            "Test accuracy: 0.6217798590660095\n"
          ],
          "name": "stdout"
        }
      ]
    },
    {
      "cell_type": "code",
      "metadata": {
        "colab": {
          "base_uri": "https://localhost:8080/",
          "height": 336
        },
        "id": "1ltQ0_UtazWT",
        "outputId": "9c8a17f3-50e9-4f05-e384-7f86c2374c83"
      },
      "source": [
        "import matplotlib.pyplot as plt\n",
        "\n",
        "def plot_history(history):\n",
        "    acc = history.history['acc']\n",
        "    val_acc = history.history['val_acc']\n",
        "    loss = history.history['loss']\n",
        "    val_loss = history.history['val_loss']\n",
        "    x = range(1, len(acc) + 1)\n",
        "    \n",
        "    plt.figure(figsize=(12, 5))\n",
        "    plt.subplot(1, 2, 1)\n",
        "    plt.plot(x, acc, 'b', label='Training acc')\n",
        "    plt.plot(x, val_acc, 'r', label='Validation acc')\n",
        "    plt.title('Training and validation accuracy')\n",
        "    plt.legend()\n",
        "    plt.subplot(1, 2, 2)\n",
        "    plt.plot(x, loss, 'b', label='Training loss')\n",
        "    plt.plot(x, val_loss, 'r', label='Validation loss')\n",
        "    plt.title('Training and validation loss')\n",
        "    plt.legend()\n",
        "plot_history(history)"
      ],
      "execution_count": null,
      "outputs": [
        {
          "output_type": "display_data",
          "data": {
            "image/png": "[encoded data removed]",
            "text/plain": [
              "<Figure size 864x360 with 2 Axes>"
            ]
          },
          "metadata": {
            "tags": [],
            "needs_background": "light"
          }
        }
      ]
    },
    {
      "cell_type": "code",
      "metadata": {
        "colab": {
          "base_uri": "https://localhost:8080/",
          "height": 281
        },
        "id": "qJUFpIAHk2fv",
        "outputId": "500e6b2b-e9ef-4d7e-98d6-a9b6f8a1ec8e"
      },
      "source": [
        "plt.title('Loss')\n",
        "plt.plot(history.history['loss'], label='train')\n",
        "plt.plot(history.history['val_loss'], label='test')\n",
        "plt.legend()\n",
        "plt.show();"
      ],
      "execution_count": null,
      "outputs": [
        {
          "output_type": "display_data",
          "data": {
            "image/png": "[encoded data removed]",
            "text/plain": [
              "<Figure size 432x288 with 1 Axes>"
            ]
          },
          "metadata": {
            "tags": [],
            "needs_background": "light"
          }
        }
      ]
    },
    {
      "cell_type": "code",
      "metadata": {
        "colab": {
          "base_uri": "https://localhost:8080/",
          "height": 281
        },
        "id": "9zadC1Ckk38q",
        "outputId": "bd5c45e8-da03-4897-c2b7-e1419a0457e1"
      },
      "source": [
        "plt.title('Accuracy')\n",
        "plt.plot(history.history['acc'], label='train')\n",
        "plt.plot(history.history['val_acc'], label='test')\n",
        "plt.legend()\n",
        "plt.show();"
      ],
      "execution_count": null,
      "outputs": [
        {
          "output_type": "display_data",
          "data": {
            "image/png": "[encoded data removed]",
            "text/plain": [
              "<Figure size 432x288 with 1 Axes>"
            ]
          },
          "metadata": {
            "tags": [],
            "needs_background": "light"
          }
        }
      ]
    },
    {
      "cell_type": "code",
      "metadata": {
        "id": "soFx3Sttk8J7"
      },
      "source": [
        "embed_dim = 128\n",
        "model = Sequential()\n",
        "model.add(Embedding(max_fatures, embed_dim,input_length = X.shape[1]))\n",
        "model.add(SpatialDropout1D(0.4))\n",
        "model.add(LSTM(64, dropout=0.2, recurrent_dropout=0.2))\n",
        "model.add(Dense(3,activation='softmax'))\n",
        "model.compile(loss = 'categorical_crossentropy', optimizer='adam',metrics = ['acc'])"
      ],
      "execution_count": null,
      "outputs": []
    },
    {
      "cell_type": "code",
      "metadata": {
        "colab": {
          "base_uri": "https://localhost:8080/"
        },
        "id": "HnpzmgKBn1SL",
        "outputId": "f5a7a274-f96f-4bcc-885e-9958575a7751"
      },
      "source": [
        "print(model.summary())"
      ],
      "execution_count": null,
      "outputs": [
        {
          "output_type": "stream",
          "text": [
            "Model: \"sequential_2\"\n",
            "_________________________________________________________________\n",
            "Layer (type)                 Output Shape              Param #   \n",
            "=================================================================\n",
            "embedding_2 (Embedding)      (None, 23, 128)           640000    \n",
            "_________________________________________________________________\n",
            "spatial_dropout1d_2 (Spatial (None, 23, 128)           0         \n",
            "_________________________________________________________________\n",
            "lstm_2 (LSTM)                (None, 64)                49408     \n",
            "_________________________________________________________________\n",
            "dense_2 (Dense)              (None, 3)                 195       \n",
            "=================================================================\n",
            "Total params: 689,603\n",
            "Trainable params: 689,603\n",
            "Non-trainable params: 0\n",
            "_________________________________________________________________\n",
            "None\n"
          ],
          "name": "stdout"
        }
      ]
    },
    {
      "cell_type": "code",
      "metadata": {
        "colab": {
          "base_uri": "https://localhost:8080/",
          "height": 533
        },
        "id": "mdLUs9Ten5zs",
        "outputId": "c4980f2c-7237-48e8-d3d8-98af95440ffb"
      },
      "source": [
        "plot_model(model, to_file='model2_plot4a.png', show_shapes=True, show_layer_names=True)"
      ],
      "execution_count": null,
      "outputs": [
        {
          "output_type": "execute_result",
          "data": {
            "image/png": "[encoded data removed]",
            "text/plain": [
              "<IPython.core.display.Image object>"
            ]
          },
          "metadata": {
            "tags": []
          },
          "execution_count": 52
        }
      ]
    },
    {
      "cell_type": "code",
      "metadata": {
        "colab": {
          "base_uri": "https://localhost:8080/"
        },
        "id": "SXI8xi98oCkY",
        "outputId": "98f99771-be19-44cf-d497-c67cd70d3486"
      },
      "source": [
        "history = model.fit(\n",
        "    X_train, \n",
        "    Y_train, \n",
        "    epochs = 10, \n",
        "    batch_size=64, \n",
        "    verbose = 2,\n",
        "    validation_split=0.1,\n",
        "    callbacks=[EarlyStopping(monitor='val_loss', patience=3, min_delta=0.0001)]\n",
        ")"
      ],
      "execution_count": null,
      "outputs": [
        {
          "output_type": "stream",
          "text": [
            "Epoch 1/10\n",
            "97/97 - 5s - loss: 1.0389 - acc: 0.4579 - val_loss: 0.9353 - val_acc: 0.5608\n",
            "Epoch 2/10\n",
            "97/97 - 5s - loss: 0.7955 - acc: 0.6362 - val_loss: 0.8368 - val_acc: 0.6208\n",
            "Epoch 3/10\n",
            "97/97 - 5s - loss: 0.5751 - acc: 0.7677 - val_loss: 0.8377 - val_acc: 0.6398\n",
            "Epoch 4/10\n",
            "97/97 - 5s - loss: 0.4222 - acc: 0.8379 - val_loss: 0.9243 - val_acc: 0.6471\n",
            "Epoch 5/10\n",
            "97/97 - 5s - loss: 0.3378 - acc: 0.8729 - val_loss: 1.0252 - val_acc: 0.6428\n"
          ],
          "name": "stdout"
        }
      ]
    },
    {
      "cell_type": "code",
      "metadata": {
        "colab": {
          "base_uri": "https://localhost:8080/"
        },
        "id": "Wj10Z3sZoWMx",
        "outputId": "1eae447a-fa41-40f8-cebd-064213bdc4c7"
      },
      "source": [
        "score = model.evaluate(\n",
        "    X_train, \n",
        "    Y_train,\n",
        "    batch_size=64, \n",
        "    verbose=2\n",
        ")\n",
        "print('Train loss:', score[0])\n",
        "print('Train accuracy:', score[1])"
      ],
      "execution_count": null,
      "outputs": [
        {
          "output_type": "stream",
          "text": [
            "107/107 - 1s - loss: 0.2961 - acc: 0.8969\n",
            "Train loss: 0.2960614264011383\n",
            "Train accuracy: 0.8969102501869202\n"
          ],
          "name": "stdout"
        }
      ]
    },
    {
      "cell_type": "code",
      "metadata": {
        "colab": {
          "base_uri": "https://localhost:8080/"
        },
        "id": "l4pHPm46ofQ_",
        "outputId": "13ca3c86-20ae-47f4-ef30-d7712e971e43"
      },
      "source": [
        "score = model.evaluate(\n",
        "    X_test, \n",
        "    Y_test,\n",
        "    batch_size=64, \n",
        "    verbose=2\n",
        ")\n",
        "print('Test loss:', score[0])\n",
        "print('Test accuracy:', score[1])"
      ],
      "execution_count": null,
      "outputs": [
        {
          "output_type": "stream",
          "text": [
            "27/27 - 0s - loss: 1.1019 - acc: 0.6288\n",
            "Test loss: 1.1019099950790405\n",
            "Test accuracy: 0.6288056373596191\n"
          ],
          "name": "stdout"
        }
      ]
    },
    {
      "cell_type": "code",
      "metadata": {
        "colab": {
          "base_uri": "https://localhost:8080/",
          "height": 336
        },
        "id": "TG1A4Xqgoih-",
        "outputId": "6972855e-9999-4ca8-fd89-4303ec5f78f0"
      },
      "source": [
        "import matplotlib.pyplot as plt\n",
        "\n",
        "def plot_history(history):\n",
        "    acc = history.history['acc']\n",
        "    val_acc = history.history['val_acc']\n",
        "    loss = history.history['loss']\n",
        "    val_loss = history.history['val_loss']\n",
        "    x = range(1, len(acc) + 1)\n",
        "    \n",
        "    plt.figure(figsize=(12, 5))\n",
        "    plt.subplot(1, 2, 1)\n",
        "    plt.plot(x, acc, 'b', label='Training acc')\n",
        "    plt.plot(x, val_acc, 'r', label='Validation acc')\n",
        "    plt.title('Training and validation accuracy')\n",
        "    plt.legend()\n",
        "    plt.subplot(1, 2, 2)\n",
        "    plt.plot(x, loss, 'b', label='Training loss')\n",
        "    plt.plot(x, val_loss, 'r', label='Validation loss')\n",
        "    plt.title('Training and validation loss')\n",
        "    plt.legend()\n",
        "plot_history(history)"
      ],
      "execution_count": null,
      "outputs": [
        {
          "output_type": "display_data",
          "data": {
            "image/png": "[encoded data removed]",
            "text/plain": [
              "<Figure size 864x360 with 2 Axes>"
            ]
          },
          "metadata": {
            "tags": [],
            "needs_background": "light"
          }
        }
      ]
    }
  ]
}