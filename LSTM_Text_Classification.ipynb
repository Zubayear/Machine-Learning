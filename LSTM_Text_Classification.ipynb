{
  "nbformat": 4,
  "nbformat_minor": 0,
  "metadata": {
    "colab": {
      "name": "LSTM_Text_Classification.ipynb",
      "provenance": [],
      "collapsed_sections": [],
      "mount_file_id": "1twpKwwxz-nIWYM5fZtNr9MIrWQsNDfji",
      "authorship_tag": "ABX9TyOc+EHl3W+2Ys1Anu6x9Aa2"
    },
    "kernelspec": {
      "name": "python3",
      "display_name": "Python 3"
    },
    "accelerator": "GPU"
  },
  "cells": [
    {
      "cell_type": "code",
      "metadata": {
        "id": "rGjC32A_ogqL"
      },
      "source": [
        "import numpy as np\r\n",
        "import matplotlib.pyplot as plt\r\n",
        "%matplotlib inline\r\n",
        "import pandas as pd\r\n",
        "import seaborn as sns\r\n",
        "import re\r\n",
        "import tensorflow as tf\r\n",
        "from tensorflow import keras\r\n",
        "from tensorflow.keras import regularizers\r\n",
        "from tensorflow.keras.preprocessing.sequence import pad_sequences\r\n",
        "from tensorflow.keras.preprocessing.text import Tokenizer\r\n",
        "from keras import models, layers\r\n",
        "from tensorflow.keras.layers import LSTM\r\n",
        "from tensorflow.keras.models import load_model\r\n",
        "from sklearn.metrics import confusion_matrix, classification_report, accuracy_score\r\n",
        "from sklearn.model_selection import train_test_split\r\n",
        "from sklearn.preprocessing import LabelEncoder\r\n",
        "np.random.seed(97)\r\n",
        "plt.style.use('fivethirtyeight')\r\n",
        "\r\n",
        "# dataset path\r\n",
        "path = '/content/drive/My Drive/Assignment/text-classification/'"
      ],
      "execution_count": 1,
      "outputs": []
    },
    {
      "cell_type": "code",
      "metadata": {
        "colab": {
          "base_uri": "https://localhost:8080/",
          "height": 206
        },
        "id": "OpHCCyGso2eL",
        "outputId": "b8aea5be-20f2-4e2a-908e-37e0ab8919b7"
      },
      "source": [
        "data = pd.read_csv(path + 'dataset.csv', usecols=['Text', 'Polarity'], encoding='utf-8')\r\n",
        "data.head()"
      ],
      "execution_count": 2,
      "outputs": [
        {
          "output_type": "execute_result",
          "data": {
            "text/html": [
              "<div>\n",
              "<style scoped>\n",
              "    .dataframe tbody tr th:only-of-type {\n",
              "        vertical-align: middle;\n",
              "    }\n",
              "\n",
              "    .dataframe tbody tr th {\n",
              "        vertical-align: top;\n",
              "    }\n",
              "\n",
              "    .dataframe thead th {\n",
              "        text-align: right;\n",
              "    }\n",
              "</style>\n",
              "<table border=\"1\" class=\"dataframe\">\n",
              "  <thead>\n",
              "    <tr style=\"text-align: right;\">\n",
              "      <th></th>\n",
              "      <th>Text</th>\n",
              "      <th>Polarity</th>\n",
              "    </tr>\n",
              "  </thead>\n",
              "  <tbody>\n",
              "    <tr>\n",
              "      <th>0</th>\n",
              "      <td>প্রকৃতি প্রেমী মানুষটি তার দোকানের নাম দিয়েছে...</td>\n",
              "      <td>Positive</td>\n",
              "    </tr>\n",
              "    <tr>\n",
              "      <th>1</th>\n",
              "      <td>নিঃশ্বাস জানান দিচ্ছে বেচে আছি</td>\n",
              "      <td>Neutral</td>\n",
              "    </tr>\n",
              "    <tr>\n",
              "      <th>2</th>\n",
              "      <td>আপনাদেদ ভিডিও গুলো দেখে নতুন নতুন অনেক কিছু শে...</td>\n",
              "      <td>Positive</td>\n",
              "    </tr>\n",
              "    <tr>\n",
              "      <th>3</th>\n",
              "      <td>আপু আমি বানাইছি অনেক মজা হইছে....</td>\n",
              "      <td>Positive</td>\n",
              "    </tr>\n",
              "    <tr>\n",
              "      <th>4</th>\n",
              "      <td>ছোট্ট পরীর আগমনে আমরাও খুব আনন্দিত।</td>\n",
              "      <td>Positive</td>\n",
              "    </tr>\n",
              "  </tbody>\n",
              "</table>\n",
              "</div>"
            ],
            "text/plain": [
              "                                                Text  Polarity\n",
              "0  প্রকৃতি প্রেমী মানুষটি তার দোকানের নাম দিয়েছে...  Positive\n",
              "1                     নিঃশ্বাস জানান দিচ্ছে বেচে আছি   Neutral\n",
              "2  আপনাদেদ ভিডিও গুলো দেখে নতুন নতুন অনেক কিছু শে...  Positive\n",
              "3                  আপু আমি বানাইছি অনেক মজা হইছে....  Positive\n",
              "4                ছোট্ট পরীর আগমনে আমরাও খুব আনন্দিত।  Positive"
            ]
          },
          "metadata": {
            "tags": []
          },
          "execution_count": 2
        }
      ]
    },
    {
      "cell_type": "code",
      "metadata": {
        "id": "m5-OdMcq4RYh"
      },
      "source": [
        "data['Text'] = data['Text'].astype(str)\r\n",
        "data['Polarity'] = data['Polarity'].astype(str)"
      ],
      "execution_count": 3,
      "outputs": []
    },
    {
      "cell_type": "markdown",
      "metadata": {
        "id": "ElKl8IoDtLWK"
      },
      "source": [
        "# Data Pre-processing"
      ]
    },
    {
      "cell_type": "code",
      "metadata": {
        "colab": {
          "base_uri": "https://localhost:8080/"
        },
        "id": "6hOgXaIWsEXX",
        "outputId": "d0dc013b-8503-4dde-c181-f84dceb83bb1"
      },
      "source": [
        "data.columns"
      ],
      "execution_count": 4,
      "outputs": [
        {
          "output_type": "execute_result",
          "data": {
            "text/plain": [
              "Index(['Text', 'Polarity'], dtype='object')"
            ]
          },
          "metadata": {
            "tags": []
          },
          "execution_count": 4
        }
      ]
    },
    {
      "cell_type": "code",
      "metadata": {
        "colab": {
          "base_uri": "https://localhost:8080/"
        },
        "id": "yeARI_w-sIP-",
        "outputId": "0df6db40-74c2-4dae-ba96-92ecf59e09d6"
      },
      "source": [
        "data.info()"
      ],
      "execution_count": 5,
      "outputs": [
        {
          "output_type": "stream",
          "text": [
            "<class 'pandas.core.frame.DataFrame'>\n",
            "RangeIndex: 8539 entries, 0 to 8538\n",
            "Data columns (total 2 columns):\n",
            " #   Column    Non-Null Count  Dtype \n",
            "---  ------    --------------  ----- \n",
            " 0   Text      8539 non-null   object\n",
            " 1   Polarity  8539 non-null   object\n",
            "dtypes: object(2)\n",
            "memory usage: 133.5+ KB\n"
          ],
          "name": "stdout"
        }
      ]
    },
    {
      "cell_type": "code",
      "metadata": {
        "colab": {
          "base_uri": "https://localhost:8080/"
        },
        "id": "QeEMF5sOsOJf",
        "outputId": "b8945197-884b-4878-a043-6002d7f77d52"
      },
      "source": [
        "data['Polarity'].value_counts()"
      ],
      "execution_count": 6,
      "outputs": [
        {
          "output_type": "execute_result",
          "data": {
            "text/plain": [
              "Positive        3141\n",
              "neutral         2996\n",
              "Negative        2213\n",
              "Neutral          183\n",
              "nan                3\n",
              "evenly_voted       2\n",
              "negative           1\n",
              "Name: Polarity, dtype: int64"
            ]
          },
          "metadata": {
            "tags": []
          },
          "execution_count": 6
        }
      ]
    },
    {
      "cell_type": "code",
      "metadata": {
        "id": "qdq3k35_sSMG"
      },
      "source": [
        "def proper_polarity(data):\r\n",
        "    data.loc[data['Polarity'] == 'neutral', 'Polarity'] = 'Neutral'\r\n",
        "    data.loc[data['Polarity'] == 'negative', 'Polarity'] = 'Negative'"
      ],
      "execution_count": 7,
      "outputs": []
    },
    {
      "cell_type": "code",
      "metadata": {
        "id": "YY63ugl5saDR"
      },
      "source": [
        "proper_polarity(data)"
      ],
      "execution_count": 8,
      "outputs": []
    },
    {
      "cell_type": "code",
      "metadata": {
        "colab": {
          "base_uri": "https://localhost:8080/"
        },
        "id": "87rmBR6LsdTJ",
        "outputId": "65b5cc27-f5e3-49fb-955b-5c9b839af340"
      },
      "source": [
        "data['Polarity'].value_counts()"
      ],
      "execution_count": 9,
      "outputs": [
        {
          "output_type": "execute_result",
          "data": {
            "text/plain": [
              "Neutral         3179\n",
              "Positive        3141\n",
              "Negative        2214\n",
              "nan                3\n",
              "evenly_voted       2\n",
              "Name: Polarity, dtype: int64"
            ]
          },
          "metadata": {
            "tags": []
          },
          "execution_count": 9
        }
      ]
    },
    {
      "cell_type": "code",
      "metadata": {
        "colab": {
          "base_uri": "https://localhost:8080/"
        },
        "id": "eg1xP-Jn7no8",
        "outputId": "fe485f6e-a22a-4dff-c7a5-cc2fc7cd4e32"
      },
      "source": [
        "data[data['Polarity'] == 'nan'].index.values"
      ],
      "execution_count": 10,
      "outputs": [
        {
          "output_type": "execute_result",
          "data": {
            "text/plain": [
              "array([633, 669, 730])"
            ]
          },
          "metadata": {
            "tags": []
          },
          "execution_count": 10
        }
      ]
    },
    {
      "cell_type": "code",
      "metadata": {
        "id": "sXbJmaAn7anV"
      },
      "source": [
        "data.drop(labels=data[data['Polarity'] == 'nan'].index.values, inplace=True)\n",
        "data.drop(labels=data[data['Polarity'] == 'evenly_voted'].index.values, inplace=True)"
      ],
      "execution_count": 11,
      "outputs": []
    },
    {
      "cell_type": "code",
      "metadata": {
        "colab": {
          "base_uri": "https://localhost:8080/"
        },
        "id": "Fs8QNJG3srPq",
        "outputId": "4b3d6f66-b4fe-495f-ab87-3055f946c050"
      },
      "source": [
        "data['Polarity'].value_counts()"
      ],
      "execution_count": 12,
      "outputs": [
        {
          "output_type": "execute_result",
          "data": {
            "text/plain": [
              "Neutral     3179\n",
              "Positive    3141\n",
              "Negative    2214\n",
              "Name: Polarity, dtype: int64"
            ]
          },
          "metadata": {
            "tags": []
          },
          "execution_count": 12
        }
      ]
    },
    {
      "cell_type": "code",
      "metadata": {
        "colab": {
          "base_uri": "https://localhost:8080/"
        },
        "id": "dvIhue646up3",
        "outputId": "cece9c84-9e7e-4c18-cb60-d64b9e83edef"
      },
      "source": [
        "data.info()"
      ],
      "execution_count": 13,
      "outputs": [
        {
          "output_type": "stream",
          "text": [
            "<class 'pandas.core.frame.DataFrame'>\n",
            "Int64Index: 8534 entries, 0 to 8538\n",
            "Data columns (total 2 columns):\n",
            " #   Column    Non-Null Count  Dtype \n",
            "---  ------    --------------  ----- \n",
            " 0   Text      8534 non-null   object\n",
            " 1   Polarity  8534 non-null   object\n",
            "dtypes: object(2)\n",
            "memory usage: 200.0+ KB\n"
          ],
          "name": "stdout"
        }
      ]
    },
    {
      "cell_type": "code",
      "metadata": {
        "colab": {
          "base_uri": "https://localhost:8080/",
          "height": 475
        },
        "id": "vTBUvv2NsuUX",
        "outputId": "31b75d3b-1548-43d9-f043-bfd782dc54f6"
      },
      "source": [
        "_ = sns.catplot(\r\n",
        "    x='Polarity', data=data, kind='count', height=6, aspect=11.7/8.27\r\n",
        ").set(title=\"Value count of polarity\")"
      ],
      "execution_count": 14,
      "outputs": [
        {
          "output_type": "display_data",
          "data": {
            "image/png": "[encoded data removed]",
            "text/plain": [
              "<Figure size 611.173x432 with 1 Axes>"
            ]
          },
          "metadata": {
            "tags": [],
            "needs_background": "light"
          }
        }
      ]
    },
    {
      "cell_type": "code",
      "metadata": {
        "id": "mo9Bidz_retT"
      },
      "source": [
        "def clean_data(text):\r\n",
        "    text = text.lower()\r\n",
        "    emoji = re.compile(\"[\"\r\n",
        "        u\"\\U0001F600-\\U0001F64F\"  \r\n",
        "        u\"\\U0001F300-\\U0001F5FF\"  \r\n",
        "        u\"\\U0001F680-\\U0001F6FF\"  \r\n",
        "        u\"\\U0001F1E0-\\U0001F1FF\"  \r\n",
        "        u\"\\U00002500-\\U00002BEF\"  \r\n",
        "        u\"\\U00002702-\\U000027B0\"\r\n",
        "        u\"\\U00002702-\\U000027B0\"\r\n",
        "        u\"\\U000024C2-\\U0001F251\"\r\n",
        "        u\"\\U0001f926-\\U0001f937\"\r\n",
        "        u\"\\U00010000-\\U0010ffff\"\r\n",
        "        u\"\\u2640-\\u2642\" \r\n",
        "        u\"\\u2600-\\u2B55\"\r\n",
        "        u\"\\u200d\"\r\n",
        "        u\"\\u23cf\"\r\n",
        "        u\"\\u23e9\"\r\n",
        "        u\"\\u231a\"\r\n",
        "        u\"\\ufe0f\"  \r\n",
        "        u\"\\u3030\"\r\n",
        "                      \"]+\", re.UNICODE)\r\n",
        "    text = re.sub(emoji, '', text)\r\n",
        "    text = re.sub('[.:(){},@?''\\d+]', '', str(text))\r\n",
        "    return text"
      ],
      "execution_count": 15,
      "outputs": []
    },
    {
      "cell_type": "code",
      "metadata": {
        "id": "qP3t3Xzat2jc"
      },
      "source": [
        "data['cleaned'] = data['Text'].apply(clean_data)"
      ],
      "execution_count": 16,
      "outputs": []
    },
    {
      "cell_type": "code",
      "metadata": {
        "colab": {
          "base_uri": "https://localhost:8080/"
        },
        "id": "rTlrO9jBJQzm",
        "outputId": "ae2f33b0-26fc-4d01-e69c-f585d2d1a155"
      },
      "source": [
        "data.loc[6928]"
      ],
      "execution_count": 17,
      "outputs": [
        {
          "output_type": "execute_result",
          "data": {
            "text/plain": [
              "Text        @ রাজিবফেসবুক, অনলাইন ছেড়ে রাস্তায় নামুন\n",
              "Polarity                                     Neutral\n",
              "cleaned        রাজিবফেসবুক অনলাইন ছেড়ে রাস্তায় নামুন\n",
              "Name: 6928, dtype: object"
            ]
          },
          "metadata": {
            "tags": []
          },
          "execution_count": 17
        }
      ]
    },
    {
      "cell_type": "code",
      "metadata": {
        "colab": {
          "base_uri": "https://localhost:8080/"
        },
        "id": "tuPQz3IvuDml",
        "outputId": "9382897f-29d8-4eac-970c-24f1950adc2b"
      },
      "source": [
        "print(\"Original: \", data['Text'][20], '\\nCleaned: ', data['cleaned'][20])"
      ],
      "execution_count": 18,
      "outputs": [
        {
          "output_type": "stream",
          "text": [
            "Original:  পৃথিবী কি দ্বিতীয় বৃহত্তম গ্রহ??? \n",
            "Cleaned:  পৃথিবী কি দ্বিতীয় বৃহত্তম গ্রহ\n"
          ],
          "name": "stdout"
        }
      ]
    },
    {
      "cell_type": "code",
      "metadata": {
        "colab": {
          "base_uri": "https://localhost:8080/"
        },
        "id": "avqbXQvbTVxE",
        "outputId": "6896b864-eeeb-4280-8242-dceb9aa7edb8"
      },
      "source": [
        "print(\"Original: \", data['Text'][318], '\\nCleaned: ', data['cleaned'][318])"
      ],
      "execution_count": 19,
      "outputs": [
        {
          "output_type": "stream",
          "text": [
            "Original:  গোলের যাদুকর রোনাল্ডোকে অভিনন্দন💝 \n",
            "Cleaned:  গোলের যাদুকর রোনাল্ডোকে অভিনন্দন\n"
          ],
          "name": "stdout"
        }
      ]
    },
    {
      "cell_type": "markdown",
      "metadata": {
        "id": "0MT9v5-asE0Y"
      },
      "source": [
        "# Explore data"
      ]
    },
    {
      "cell_type": "code",
      "metadata": {
        "id": "pLENbOrfv3rf"
      },
      "source": [
        "df = data['cleaned'].apply(lambda x: len(x.split()))"
      ],
      "execution_count": 20,
      "outputs": []
    },
    {
      "cell_type": "code",
      "metadata": {
        "id": "BZf7RvRFwVIn"
      },
      "source": [
        "df1 = data.loc[df < 2]"
      ],
      "execution_count": 21,
      "outputs": []
    },
    {
      "cell_type": "code",
      "metadata": {
        "colab": {
          "base_uri": "https://localhost:8080/",
          "height": 175
        },
        "id": "VsVXcqD2wb4u",
        "outputId": "132c3bf7-abcb-4acc-f49a-920e696c9df1"
      },
      "source": [
        "df1.tail(4)"
      ],
      "execution_count": 22,
      "outputs": [
        {
          "output_type": "execute_result",
          "data": {
            "text/html": [
              "<div>\n",
              "<style scoped>\n",
              "    .dataframe tbody tr th:only-of-type {\n",
              "        vertical-align: middle;\n",
              "    }\n",
              "\n",
              "    .dataframe tbody tr th {\n",
              "        vertical-align: top;\n",
              "    }\n",
              "\n",
              "    .dataframe thead th {\n",
              "        text-align: right;\n",
              "    }\n",
              "</style>\n",
              "<table border=\"1\" class=\"dataframe\">\n",
              "  <thead>\n",
              "    <tr style=\"text-align: right;\">\n",
              "      <th></th>\n",
              "      <th>Text</th>\n",
              "      <th>Polarity</th>\n",
              "      <th>cleaned</th>\n",
              "    </tr>\n",
              "  </thead>\n",
              "  <tbody>\n",
              "    <tr>\n",
              "      <th>8113</th>\n",
              "      <td>আবার</td>\n",
              "      <td>Neutral</td>\n",
              "      <td>আবার</td>\n",
              "    </tr>\n",
              "    <tr>\n",
              "      <th>8119</th>\n",
              "      <td>একমত</td>\n",
              "      <td>Neutral</td>\n",
              "      <td>একমত</td>\n",
              "    </tr>\n",
              "    <tr>\n",
              "      <th>8131</th>\n",
              "      <td>হাস্যকর</td>\n",
              "      <td>Neutral</td>\n",
              "      <td>হাস্যকর</td>\n",
              "    </tr>\n",
              "    <tr>\n",
              "      <th>8132</th>\n",
              "      <td>ভাল</td>\n",
              "      <td>Neutral</td>\n",
              "      <td>ভাল</td>\n",
              "    </tr>\n",
              "  </tbody>\n",
              "</table>\n",
              "</div>"
            ],
            "text/plain": [
              "         Text Polarity  cleaned\n",
              "8113     আবার  Neutral     আবার\n",
              "8119     একমত  Neutral     একমত\n",
              "8131  হাস্যকর  Neutral  হাস্যকর\n",
              "8132      ভাল  Neutral      ভাল"
            ]
          },
          "metadata": {
            "tags": []
          },
          "execution_count": 22
        }
      ]
    },
    {
      "cell_type": "code",
      "metadata": {
        "colab": {
          "base_uri": "https://localhost:8080/"
        },
        "id": "kI3yY9I9wpiP",
        "outputId": "e4a16039-4703-4bbc-dd31-b05f720cb287"
      },
      "source": [
        "data.loc[5324]"
      ],
      "execution_count": 23,
      "outputs": [
        {
          "output_type": "execute_result",
          "data": {
            "text/plain": [
              "Text        শোভাযাত্রা\n",
              "Polarity      Positive\n",
              "cleaned     শোভাযাত্রা\n",
              "Name: 5324, dtype: object"
            ]
          },
          "metadata": {
            "tags": []
          },
          "execution_count": 23
        }
      ]
    },
    {
      "cell_type": "markdown",
      "metadata": {
        "id": "fUGFphkYxz48"
      },
      "source": [
        "## Remove row with length less than 2"
      ]
    },
    {
      "cell_type": "code",
      "metadata": {
        "colab": {
          "base_uri": "https://localhost:8080/"
        },
        "id": "a962tamRuPOM",
        "outputId": "843e3169-243b-422b-c34b-17f0163099d8"
      },
      "source": [
        "data['length'] = data['cleaned'].apply(lambda x: len(x.split()))\r\n",
        "dataset = data.loc[data.length > 2]\r\n",
        "dataset = dataset.reset_index(drop=True)\r\n",
        "print(\"After Cleaning:\",\"\\nRemoved {} Sentences that were less than 2 word\".format(len(data)-len(dataset)),\r\n",
        "      \"\\nTotal Sentences:\",len(dataset))"
      ],
      "execution_count": 24,
      "outputs": [
        {
          "output_type": "stream",
          "text": [
            "After Cleaning: \n",
            "Removed 122 Sentences that were less than 2 word \n",
            "Total Sentences: 8412\n"
          ],
          "name": "stdout"
        }
      ]
    },
    {
      "cell_type": "code",
      "metadata": {
        "colab": {
          "base_uri": "https://localhost:8080/"
        },
        "id": "VkT1DODOxbKz",
        "outputId": "e507cb8e-e1b7-420f-a8ba-88aadc472b89"
      },
      "source": [
        "dataset.loc[20]"
      ],
      "execution_count": 25,
      "outputs": [
        {
          "output_type": "execute_result",
          "data": {
            "text/plain": [
              "Text        পৃথিবী কি দ্বিতীয় বৃহত্তম গ্রহ???\n",
              "Polarity                               Neutral\n",
              "cleaned        পৃথিবী কি দ্বিতীয় বৃহত্তম গ্রহ\n",
              "length                                       5\n",
              "Name: 20, dtype: object"
            ]
          },
          "metadata": {
            "tags": []
          },
          "execution_count": 25
        }
      ]
    },
    {
      "cell_type": "markdown",
      "metadata": {
        "id": "duj8wLH1yJIh"
      },
      "source": [
        "# Dataset Analysis"
      ]
    },
    {
      "cell_type": "code",
      "metadata": {
        "colab": {
          "base_uri": "https://localhost:8080/"
        },
        "id": "XFe9I4zDvNGo",
        "outputId": "89d19b15-c56f-42a2-dbe7-854bf5dd8cf4"
      },
      "source": [
        "def data_summary(dataset):\r\n",
        "    documents = []\r\n",
        "    words = []\r\n",
        "    u_words = []\r\n",
        "    total_u_words = [word.strip().lower() for t in list(dataset.cleaned) for word in t.strip().split()]\r\n",
        "    class_label= [k for k,v in dataset.Polarity.value_counts().to_dict().items()]\r\n",
        "    \r\n",
        "    # find word list\r\n",
        "    for label in class_label: \r\n",
        "        word_list = [word.strip().lower() for t in list(dataset[dataset.Polarity==label].cleaned) for word in t.strip().split()]\r\n",
        "        counts = dict()\r\n",
        "        for word in word_list:\r\n",
        "                counts[word] = counts.get(word, 0) + 1\r\n",
        "        \r\n",
        "        # sort the dictionary of word list  \r\n",
        "        ordered = sorted(counts.items(), key= lambda item: item[1], reverse = True)\r\n",
        "        \r\n",
        "        # Documents per class\r\n",
        "        documents.append(len(list(dataset[dataset.Polarity==label].cleaned)))\r\n",
        "        \r\n",
        "        # Total Word per class\r\n",
        "        words.append(len(word_list))\r\n",
        "        \r\n",
        "        # Unique words per class \r\n",
        "        u_words.append(len(np.unique(word_list)))\r\n",
        "       \r\n",
        "        print(\"\\nClass Name:\", label)\r\n",
        "        print(\"Number of Documents: {}\".format(len(list(dataset[dataset.Polarity==label].cleaned))))  \r\n",
        "        print(\"Number of Words: {}\".format(len(word_list))) \r\n",
        "        print(\"Number of Unique Words: {}\".format(len(np.unique(word_list)))) \r\n",
        "        print(\"Most Frequent Words:\\n\")\r\n",
        "        for k, v in ordered[:10]:\r\n",
        "              print(\"{}\\t{}\".format(k, v))\r\n",
        "    print(\"Total Number of Unique Words: {}\".format(len(np.unique(total_u_words))))           \r\n",
        "   \r\n",
        "    return documents, words, u_words, class_label\r\n",
        "\r\n",
        "documents, words, u_words, class_names = data_summary(dataset)"
      ],
      "execution_count": 26,
      "outputs": [
        {
          "output_type": "stream",
          "text": [
            "\n",
            "Class Name: Positive\n",
            "Number of Documents: 3118\n",
            "Number of Words: 25450\n",
            "Number of Unique Words: 7682\n",
            "Most Frequent Words:\n",
            "\n",
            "অনেক\t227\n",
            "ভালো\t215\n",
            "করে\t194\n",
            "জন্য\t191\n",
            "ভাল\t174\n",
            "এই\t166\n",
            "আমার\t163\n",
            "হবে\t151\n",
            "না\t148\n",
            "আমি\t147\n",
            "\n",
            "Class Name: Neutral\n",
            "Number of Documents: 3102\n",
            "Number of Words: 27764\n",
            "Number of Unique Words: 8992\n",
            "Most Frequent Words:\n",
            "\n",
            "না\t424\n",
            "কি\t302\n",
            "করে\t246\n",
            "এই\t205\n",
            "আর\t179\n",
            "হবে\t178\n",
            "জন্য\t168\n",
            "করা\t148\n",
            "আমি\t145\n",
            "হয়\t145\n",
            "\n",
            "Class Name: Negative\n",
            "Number of Documents: 2192\n",
            "Number of Words: 20741\n",
            "Number of Unique Words: 7282\n",
            "Most Frequent Words:\n",
            "\n",
            "না\t484\n",
            "এই\t179\n",
            "করে\t174\n",
            "আর\t172\n",
            "কোন\t109\n",
            "হবে\t108\n",
            "নাই\t105\n",
            "কি\t102\n",
            "মানুষ\t100\n",
            "জন্য\t95\n",
            "Total Number of Unique Words: 17776\n"
          ],
          "name": "stdout"
        }
      ]
    },
    {
      "cell_type": "markdown",
      "metadata": {
        "id": "lkFQSfQN0grv"
      },
      "source": [
        "## Summary visualization"
      ]
    },
    {
      "cell_type": "code",
      "metadata": {
        "colab": {
          "base_uri": "https://localhost:8080/",
          "height": 475
        },
        "id": "YJ42I02xzfsB",
        "outputId": "cc2877f0-951c-4231-d444-2a3c74ec3491"
      },
      "source": [
        "data_matrix = pd.DataFrame({'Total Documents': documents,\r\n",
        "                            'Total Words': words,\r\n",
        "                            'Unique Words': u_words,\r\n",
        "                            'Class Names': class_names})\r\n",
        "df = pd.melt(data_matrix, id_vars=\"Class Names\", var_name=\"Polarity\", value_name=\"Values\")\r\n",
        "\r\n",
        "_ = sns.catplot(\r\n",
        "    data=df, x='Class Names', y=\"Values\", hue=\"Polarity\", kind=\"bar\", height=6, aspect=11.7/8.27\r\n",
        ").set(title=\"Data statistics\")"
      ],
      "execution_count": 27,
      "outputs": [
        {
          "output_type": "display_data",
          "data": {
            "image/png": "[encoded data removed]",
            "text/plain": [
              "<Figure size 730.298x432 with 1 Axes>"
            ]
          },
          "metadata": {
            "tags": [],
            "needs_background": "light"
          }
        }
      ]
    },
    {
      "cell_type": "markdown",
      "metadata": {
        "id": "ebWgurDd1JZI"
      },
      "source": [
        "## Sentence length distribution"
      ]
    },
    {
      "cell_type": "code",
      "metadata": {
        "colab": {
          "base_uri": "https://localhost:8080/",
          "height": 369
        },
        "id": "rjIIHFiC0wB6",
        "outputId": "19d3626a-0fdb-4e86-a1e6-8b07c8fa1f7b"
      },
      "source": [
        "dataset['SentenceLength'] = dataset.cleaned.apply(lambda x:len(x.split()))\r\n",
        "frequency = dict()\r\n",
        "for i in dataset.SentenceLength:\r\n",
        "    frequency[i] = frequency.get(i, 0) + 1\r\n",
        "\r\n",
        "plt.bar(frequency.keys(), frequency.values())\r\n",
        "plt.xlim(1, 20)\r\n",
        "\r\n",
        "\r\n",
        "plt.xlabel('Length of the Sentences')\r\n",
        "plt.ylabel('Frequency')\r\n",
        "plt.title('Length-Frequency Distribution')\r\n",
        "plt.show()  \r\n",
        "print(f\"\\nMaximum Length of a Sentence: {max(dataset.SentenceLength)}\")\r\n",
        "print(f\"Minimum Length of a Sentence: {min(dataset.SentenceLength)}\")\r\n",
        "print(f\"Average Length of a Sentence: {round(np.mean(dataset.SentenceLength), 0)}\")"
      ],
      "execution_count": 28,
      "outputs": [
        {
          "output_type": "display_data",
          "data": {
            "image/png": "[encoded data removed]",
            "text/plain": [
              "<Figure size 432x288 with 1 Axes>"
            ]
          },
          "metadata": {
            "tags": [],
            "needs_background": "light"
          }
        },
        {
          "output_type": "stream",
          "text": [
            "\n",
            "Maximum Length of a Sentence: 32\n",
            "Minimum Length of a Sentence: 3\n",
            "Average Length of a Sentence: 9.0\n"
          ],
          "name": "stdout"
        }
      ]
    },
    {
      "cell_type": "code",
      "metadata": {
        "colab": {
          "base_uri": "https://localhost:8080/"
        },
        "id": "JWu5K7xzzL4c",
        "outputId": "323e3077-16cb-4304-fa97-3b368041ba8a"
      },
      "source": [
        "print(dataset.SentenceLength.median())"
      ],
      "execution_count": 29,
      "outputs": [
        {
          "output_type": "stream",
          "text": [
            "8.0\n"
          ],
          "name": "stdout"
        }
      ]
    },
    {
      "cell_type": "markdown",
      "metadata": {
        "id": "lJEACRcp1sKs"
      },
      "source": [
        "# Label Encoding & Dataset split"
      ]
    },
    {
      "cell_type": "code",
      "metadata": {
        "id": "Qwg5JprF80P7"
      },
      "source": [
        "sample_data = [2000, 5000, 7000, 8000]"
      ],
      "execution_count": 30,
      "outputs": []
    },
    {
      "cell_type": "code",
      "metadata": {
        "id": "yaAhyZV11hw3"
      },
      "source": [
        "def label_encoding(polarity, bool):\r\n",
        "    # instantiate label encoder\r\n",
        "    le = LabelEncoder()\r\n",
        "    \r\n",
        "    # fit the encoder\r\n",
        "    le.fit(polarity)\r\n",
        "    \r\n",
        "    # transform\r\n",
        "    encoded_labels = le.transform(polarity)\r\n",
        "\r\n",
        "    # Converting into numpy array\r\n",
        "    labels = np.array(encoded_labels) \r\n",
        "\r\n",
        "    # Define the class names again\r\n",
        "    class_names = le.classes_ \r\n",
        "    if bool == True:\r\n",
        "        print(\"Label Encoding\\nClass Names: \", le.classes_)\r\n",
        "        for i in sample_data:\r\n",
        "            print(polarity[i], ' ', encoded_labels[i],'\\n')\r\n",
        "\r\n",
        "    return labels"
      ],
      "execution_count": 31,
      "outputs": []
    },
    {
      "cell_type": "code",
      "metadata": {
        "id": "0NxXiZTG2G85"
      },
      "source": [
        "def dataset_split(sentence, polarity):\r\n",
        "    # testing = 10% of full\r\n",
        "    X, X_test, y, y_test = train_test_split(sentence, polarity, train_size = 0.9, \r\n",
        "                                                  test_size = 0.1, random_state = 97)\r\n",
        "    # training = 80% of left 90%\r\n",
        "    # validation = rest\r\n",
        "    X_train, X_valid, y_train, y_valid = train_test_split(X, y, train_size = 0.8, \r\n",
        "                                                  test_size = 0.2, random_state = 97)\r\n",
        "    \r\n",
        "    print(\"Entire: {} \\nTrain set: {} \\nTest set: {} \\nValidation set: {}\".format(len(sentence), len(X_train), len(X_test), len(X_valid)))\r\n",
        "  \r\n",
        "    return X_train, X_valid, X_test, y_train, y_valid, y_test"
      ],
      "execution_count": 32,
      "outputs": []
    },
    {
      "cell_type": "code",
      "metadata": {
        "colab": {
          "base_uri": "https://localhost:8080/"
        },
        "id": "X71LxO-U2xRi",
        "outputId": "1f40b8c7-1d1e-451f-8bfc-2a39b4489222"
      },
      "source": [
        "labels = label_encoding(dataset.Polarity, True)"
      ],
      "execution_count": 33,
      "outputs": [
        {
          "output_type": "stream",
          "text": [
            "Label Encoding\n",
            "Class Names:  ['Negative' 'Neutral' 'Positive']\n",
            "Negative   0 \n",
            "\n",
            "Positive   2 \n",
            "\n",
            "Neutral   1 \n",
            "\n",
            "Neutral   1 \n",
            "\n"
          ],
          "name": "stdout"
        }
      ]
    },
    {
      "cell_type": "code",
      "metadata": {
        "colab": {
          "base_uri": "https://localhost:8080/"
        },
        "id": "8_F0Fv-m23wp",
        "outputId": "06e5fc19-5fbd-47d2-ff14-e4ce2d2e4afc"
      },
      "source": [
        "X_train, X_valid, X_test, y_train, y_valid, y_test = dataset_split(dataset.cleaned, labels)"
      ],
      "execution_count": 34,
      "outputs": [
        {
          "output_type": "stream",
          "text": [
            "Entire: 8412 \n",
            "Train set: 6056 \n",
            "Test set: 842 \n",
            "Validation set: 1514\n"
          ],
          "name": "stdout"
        }
      ]
    },
    {
      "cell_type": "markdown",
      "metadata": {
        "id": "T25YccDtBdqO"
      },
      "source": [
        "# Tokenization"
      ]
    },
    {
      "cell_type": "code",
      "metadata": {
        "id": "QKOksRO9Bc40"
      },
      "source": [
        "vocab_size = 57000\r\n",
        "max_length = 25\r\n",
        "trunc_type = 'post'\r\n",
        "padding_type = 'post'\r\n",
        "oov_tok = \"<OOV>\""
      ],
      "execution_count": 35,
      "outputs": []
    },
    {
      "cell_type": "code",
      "metadata": {
        "id": "0YWLcLuZ264O"
      },
      "source": [
        "def padded_sentence(original, encoded, padded):\r\n",
        "  print(\"Encoded Sequences\\n\")  \r\n",
        "  print(\"Original: \", original)\r\n",
        "  print(\"Encoded: \", encoded)\r\n",
        "  print(\"\\nPaded Sequences\\n\", original, \"\\n\", padded)"
      ],
      "execution_count": 36,
      "outputs": []
    },
    {
      "cell_type": "code",
      "metadata": {
        "id": "iad7c5y8B6Dd",
        "colab": {
          "base_uri": "https://localhost:8080/"
        },
        "outputId": "f67ef124-105b-45c2-ffbe-1438c9562106"
      },
      "source": [
        "# Training data tokenization\r\n",
        "tokenizer = Tokenizer(num_words=vocab_size, oov_token=oov_tok)\r\n",
        "\r\n",
        "# Updates internal vocabulary based on a list of texts.\r\n",
        "tokenizer.fit_on_texts(X_train)\r\n",
        "word_index = tokenizer.word_index\r\n",
        "\r\n",
        "\r\n",
        "# transforms each text in X_train to a sequence of integers\r\n",
        "# it takes each word in the text and replaces it with its \r\n",
        "# corresponding integer value from the word_index dictionary.\r\n",
        "train_sequences = tokenizer.texts_to_sequences(X_train)\r\n",
        "train_padded = pad_sequences(train_sequences, padding=padding_type, maxlen=max_length)\r\n",
        "print(\"Unique tokens: \", len(word_index))"
      ],
      "execution_count": 37,
      "outputs": [
        {
          "output_type": "stream",
          "text": [
            "Unique tokens:  14264\n"
          ],
          "name": "stdout"
        }
      ]
    },
    {
      "cell_type": "code",
      "metadata": {
        "colab": {
          "base_uri": "https://localhost:8080/"
        },
        "id": "kNHknmfCEM1G",
        "outputId": "8628668d-5fd5-4af0-e1f2-294f20f5d425"
      },
      "source": [
        "padded_sentence(X_train[10], train_sequences[10], train_padded[10])"
      ],
      "execution_count": 38,
      "outputs": [
        {
          "output_type": "stream",
          "text": [
            "Encoded Sequences\n",
            "\n",
            "Original:  ভালো লাগার মত একটি অসাধারণ ছবি\n",
            "Encoded:  [922, 11, 5, 4, 1471, 45, 2286, 39, 51, 1057, 5105, 62, 3166]\n",
            "\n",
            "Paded Sequences\n",
            " ভালো লাগার মত একটি অসাধারণ ছবি \n",
            " [ 922   11    5    4 1471   45 2286   39   51 1057 5105   62 3166    0\n",
            "    0    0    0    0    0    0    0    0    0    0    0]\n"
          ],
          "name": "stdout"
        }
      ]
    },
    {
      "cell_type": "code",
      "metadata": {
        "colab": {
          "base_uri": "https://localhost:8080/"
        },
        "id": "orSJ3H31HcRf",
        "outputId": "b9a07a32-fea3-4105-f9c2-177e2348901e"
      },
      "source": [
        "# Validation Data Tokenization\r\n",
        "\r\n",
        "# transforms each text in X_valid to a sequence of integers\r\n",
        "# it takes each word in the text and replaces it with its \r\n",
        "# corresponding integer value from the word_index dictionary.\r\n",
        "validation_sequences = tokenizer.texts_to_sequences(X_valid)\r\n",
        "validation_padded = pad_sequences(validation_sequences, padding=padding_type, maxlen=max_length)\r\n",
        "padded_sentence(X_valid.iloc[0], validation_sequences[0], validation_padded[0])"
      ],
      "execution_count": 39,
      "outputs": [
        {
          "output_type": "stream",
          "text": [
            "Encoded Sequences\n",
            "\n",
            "Original:  টাকায় টাকার বেশি লাভ সুদের সমান\n",
            "Encoded:  [424, 477, 66, 202, 3485, 842]\n",
            "\n",
            "Paded Sequences\n",
            " টাকায় টাকার বেশি লাভ সুদের সমান \n",
            " [ 424  477   66  202 3485  842    0    0    0    0    0    0    0    0\n",
            "    0    0    0    0    0    0    0    0    0    0    0]\n"
          ],
          "name": "stdout"
        }
      ]
    },
    {
      "cell_type": "code",
      "metadata": {
        "colab": {
          "base_uri": "https://localhost:8080/"
        },
        "id": "ECNBTNZBIS38",
        "outputId": "2cf22426-5682-4f6e-cd8a-d6dcbb80fdfa"
      },
      "source": [
        "# Testing Data Tokenization\r\n",
        "test_sequences = tokenizer.texts_to_sequences(X_test)\r\n",
        "test_padded = pad_sequences(test_sequences, padding=padding_type , maxlen=max_length)\r\n",
        "padded_sentence(X_test.iloc[0], test_sequences[0], test_padded[0])"
      ],
      "execution_count": 40,
      "outputs": [
        {
          "output_type": "stream",
          "text": [
            "Encoded Sequences\n",
            "\n",
            "Original:  উনি ত নির্যাতন এর পক্ষে\n",
            "Encoded:  [517, 871, 10471, 20, 553]\n",
            "\n",
            "Paded Sequences\n",
            " উনি ত নির্যাতন এর পক্ষে \n",
            " [  517   871 10471    20   553     0     0     0     0     0     0     0\n",
            "     0     0     0     0     0     0     0     0     0     0     0     0\n",
            "     0]\n"
          ],
          "name": "stdout"
        }
      ]
    },
    {
      "cell_type": "code",
      "metadata": {
        "id": "B3UlO1ryIeB-"
      },
      "source": [
        "train_label_seq = y_train\r\n",
        "valid_label_seq = y_valid\r\n",
        "testing_label_seq = y_test"
      ],
      "execution_count": 41,
      "outputs": []
    },
    {
      "cell_type": "markdown",
      "metadata": {
        "id": "1BNzsJWwBLwV"
      },
      "source": [
        "# Build and train the model"
      ]
    },
    {
      "cell_type": "code",
      "metadata": {
        "id": "j3yOLn72L4g_"
      },
      "source": [
        "def build_model(model_name, embedding_dim, dropout_rate, units, patience):\r\n",
        "    keras.backend.clear_session()\r\n",
        "\r\n",
        "    vocab_size = len(word_index) + 1\r\n",
        "    embedding_dim = embedding_dim # 64\r\n",
        "    max_length = 25\r\n",
        "    num_category = 3\r\n",
        "\r\n",
        "    # Save the Best Model\r\n",
        "    filepath = path + model_name + \".h5\"\r\n",
        "    checkpoint = keras.callbacks.ModelCheckpoint(\r\n",
        "        filepath, monitor='val_accuracy', verbose=2, save_best_only=True, \r\n",
        "        save_weights_only=False, mode='max'\r\n",
        "    )\r\n",
        "\r\n",
        "    early_stopping = tf.keras.callbacks.EarlyStopping(\r\n",
        "        monitor=\"val_loss\",\r\n",
        "        min_delta=0.0001,\r\n",
        "        patience=patience,\r\n",
        "        verbose=2,\r\n",
        "        mode=\"auto\",\r\n",
        "    )\r\n",
        "\r\n",
        "    callback_list = [checkpoint, early_stopping] \r\n",
        "\r\n",
        "    model = tf.keras.Sequential([\r\n",
        "        tf.keras.layers.Embedding(vocab_size, embedding_dim, input_length=max_length),\r\n",
        "        tf.keras.layers.SpatialDropout1D(dropout_rate),\r\n",
        "        tf.keras.layers.LSTM(units[0] , dropout=dropout_rate, return_sequences=True),\r\n",
        "        tf.keras.layers.LSTM(units[1]),\r\n",
        "        tf.keras.layers.Dense(200, activation='relu'),\r\n",
        "        tf.keras.layers.Dense(num_category, activation='softmax')\r\n",
        "    ])\r\n",
        "\r\n",
        "    model.compile(loss='sparse_categorical_crossentropy', optimizer='adam', metrics=['accuracy'])\r\n",
        "    model.summary()\r\n",
        "    return model, callback_list, model_name"
      ],
      "execution_count": 53,
      "outputs": []
    },
    {
      "cell_type": "code",
      "metadata": {
        "id": "RsTPEuotM5kV"
      },
      "source": [
        "def fit_model(model, num_epochs, batch, callback_list):\r\n",
        "    history = model.fit(\r\n",
        "        train_padded, train_label_seq, \r\n",
        "        epochs=num_epochs,\r\n",
        "        batch_size = batch,\r\n",
        "        validation_data=(validation_padded, valid_label_seq), \r\n",
        "        verbose=1,\r\n",
        "        callbacks=callback_list\r\n",
        "    )\r\n",
        "    return history"
      ],
      "execution_count": 44,
      "outputs": []
    },
    {
      "cell_type": "markdown",
      "metadata": {
        "id": "qZC7T_c9BTu6"
      },
      "source": [
        "# Model evaluation Functions"
      ]
    },
    {
      "cell_type": "markdown",
      "metadata": {
        "id": "wMdlefcfAPKE"
      },
      "source": [
        "## Classification Report"
      ]
    },
    {
      "cell_type": "code",
      "metadata": {
        "id": "VOvT5DZAOz6x"
      },
      "source": [
        "def generate_report(saved_model):\r\n",
        "    model = load_model(path + saved_model + \".h5\")\r\n",
        "    predictions = model.predict(test_padded)\r\n",
        "    y_pred = np.argmax(predictions, axis=1)\r\n",
        "    report = pd.DataFrame(\r\n",
        "        classification_report(y_true=testing_label_seq, y_pred=y_pred, output_dict=True)\r\n",
        "    ).transpose()\r\n",
        "\r\n",
        "    report = report.rename(index={'0': 'Negative', '1': 'Neutral', '2': 'Positive'})\r\n",
        "\r\n",
        "    report[['precision', 'recall', 'f1-score']] = report[['precision', 'recall', 'f1-score']].apply(lambda x: round(x, 2))\r\n",
        "    return report"
      ],
      "execution_count": 45,
      "outputs": []
    },
    {
      "cell_type": "markdown",
      "metadata": {
        "id": "H5OBdPScV2fC"
      },
      "source": [
        "## Confusion Matrix"
      ]
    },
    {
      "cell_type": "code",
      "metadata": {
        "id": "_h4VSGpRV1Wm"
      },
      "source": [
        "# load the Saved model from directory\r\n",
        "def create_confusion_matrix(saved_model):\r\n",
        "    model = load_model(path + saved_model + \".h5\")\r\n",
        "    predictions = model.predict(test_padded)\r\n",
        "    y_pred = np.argmax(predictions, axis=1)\r\n",
        "\r\n",
        "    cm = confusion_matrix(testing_label_seq, y_pred) \r\n",
        "\r\n",
        "    # Transform to df for easier plotting\r\n",
        "    cm_df = pd.DataFrame(\r\n",
        "        cm,\r\n",
        "        index = ['Negative', 'Neutral', 'Positive'], \r\n",
        "        columns = ['Negative', 'Neutral', 'Positive']\r\n",
        "    )\r\n",
        "\r\n",
        "    plt.figure(figsize=(8, 6))\r\n",
        "    sns.heatmap(cm_df, annot=True, fmt='g')\r\n",
        "    plt.title('\\nAccuracy: {0:.2f}'.format(accuracy_score(testing_label_seq, y_pred) * 100))\r\n",
        "    plt.ylabel('True label')\r\n",
        "    plt.xlabel('Predicted label')\r\n",
        "    plt.xticks(rotation = 45)\r\n",
        "    plt.yticks(rotation = 45)\r\n",
        "    plt.show()"
      ],
      "execution_count": 46,
      "outputs": []
    },
    {
      "cell_type": "markdown",
      "metadata": {
        "id": "WuoJzjk1A8PH"
      },
      "source": [
        "## Accuracy and Loss Curve"
      ]
    },
    {
      "cell_type": "code",
      "metadata": {
        "id": "pAcuhH5w7tFO"
      },
      "source": [
        "def plot_history(history):\r\n",
        "    acc = history.history['accuracy']\r\n",
        "    val_acc = history.history['val_accuracy']\r\n",
        "    loss = history.history['loss']\r\n",
        "    val_loss = history.history['val_loss']\r\n",
        "    x = range(1, len(acc) + 1)\r\n",
        "\r\n",
        "    plt.figure(figsize=(12, 5))\r\n",
        "    plt.subplot(1, 2, 1)\r\n",
        "    plt.plot(x, acc, 'b', label='Training acc')\r\n",
        "    plt.plot(x, val_acc, 'r', label='Validation acc')\r\n",
        "    plt.title('Training and validation accuracy')\r\n",
        "    plt.legend()\r\n",
        "    plt.subplot(1, 2, 2)\r\n",
        "    plt.plot(x, loss, 'b', label='Training loss')\r\n",
        "    plt.plot(x, val_loss, 'r', label='Validation loss')\r\n",
        "    plt.title('Training and validation loss')\r\n",
        "    plt.legend()"
      ],
      "execution_count": 47,
      "outputs": []
    },
    {
      "cell_type": "markdown",
      "metadata": {
        "id": "XL1cyswmDhBU"
      },
      "source": [
        "# Model1"
      ]
    },
    {
      "cell_type": "code",
      "metadata": {
        "colab": {
          "base_uri": "https://localhost:8080/"
        },
        "id": "SwBdN-Pc5jkJ",
        "outputId": "36bab3cb-cb76-491e-afdd-0b92c6bca391"
      },
      "source": [
        "model, callback_list, model_name = build_model(model_name=\"model\", embedding_dim=64, dropout_rate=0.2, units=[200, 100], patience=3)\r\n",
        "history = fit_model(model=model, num_epochs=10, batch=32, callback_list=callback_list)"
      ],
      "execution_count": 56,
      "outputs": [
        {
          "output_type": "stream",
          "text": [
            "Model: \"sequential\"\n",
            "_________________________________________________________________\n",
            "Layer (type)                 Output Shape              Param #   \n",
            "=================================================================\n",
            "embedding (Embedding)        (None, 25, 64)            912960    \n",
            "_________________________________________________________________\n",
            "spatial_dropout1d (SpatialDr (None, 25, 64)            0         \n",
            "_________________________________________________________________\n",
            "lstm (LSTM)                  (None, 25, 200)           212000    \n",
            "_________________________________________________________________\n",
            "lstm_1 (LSTM)                (None, 100)               120400    \n",
            "_________________________________________________________________\n",
            "dense (Dense)                (None, 200)               20200     \n",
            "_________________________________________________________________\n",
            "dense_1 (Dense)              (None, 3)                 603       \n",
            "=================================================================\n",
            "Total params: 1,266,163\n",
            "Trainable params: 1,266,163\n",
            "Non-trainable params: 0\n",
            "_________________________________________________________________\n",
            "Epoch 1/10\n",
            "190/190 [==============================] - 6s 18ms/step - loss: 1.0895 - accuracy: 0.3699 - val_loss: 0.9502 - val_accuracy: 0.5244\n",
            "\n",
            "Epoch 00001: val_accuracy improved from -inf to 0.52444, saving model to /content/drive/My Drive/Assignment/text-classification/model.h5\n",
            "Epoch 2/10\n",
            "190/190 [==============================] - 3s 16ms/step - loss: 0.8442 - accuracy: 0.5953 - val_loss: 0.9435 - val_accuracy: 0.5383\n",
            "\n",
            "Epoch 00002: val_accuracy improved from 0.52444 to 0.53831, saving model to /content/drive/My Drive/Assignment/text-classification/model.h5\n",
            "Epoch 3/10\n",
            "190/190 [==============================] - 3s 15ms/step - loss: 0.5611 - accuracy: 0.7642 - val_loss: 0.9088 - val_accuracy: 0.6017\n",
            "\n",
            "Epoch 00003: val_accuracy improved from 0.53831 to 0.60172, saving model to /content/drive/My Drive/Assignment/text-classification/model.h5\n",
            "Epoch 4/10\n",
            "190/190 [==============================] - 3s 15ms/step - loss: 0.3331 - accuracy: 0.8802 - val_loss: 1.0064 - val_accuracy: 0.5984\n",
            "\n",
            "Epoch 00004: val_accuracy did not improve from 0.60172\n",
            "Epoch 5/10\n",
            "190/190 [==============================] - 3s 14ms/step - loss: 0.2015 - accuracy: 0.9369 - val_loss: 1.1867 - val_accuracy: 0.6063\n",
            "\n",
            "Epoch 00005: val_accuracy improved from 0.60172 to 0.60634, saving model to /content/drive/My Drive/Assignment/text-classification/model.h5\n",
            "Epoch 6/10\n",
            "190/190 [==============================] - 3s 15ms/step - loss: 0.1143 - accuracy: 0.9637 - val_loss: 1.4603 - val_accuracy: 0.6136\n",
            "\n",
            "Epoch 00006: val_accuracy improved from 0.60634 to 0.61361, saving model to /content/drive/My Drive/Assignment/text-classification/model.h5\n",
            "Epoch 00006: early stopping\n"
          ],
          "name": "stdout"
        }
      ]
    },
    {
      "cell_type": "code",
      "metadata": {
        "colab": {
          "base_uri": "https://localhost:8080/"
        },
        "id": "IZhbDbc-MzMt",
        "outputId": "10f49894-5ed5-409d-b0a8-07dfa7f3cc5f"
      },
      "source": [
        "model = load_model(path + model_name + \".h5\")\r\n",
        "predictions = model.predict(test_padded)\r\n",
        "y_pred = np.argmax(predictions, axis=1)\r\n",
        "print('Test Accuracy: {0:.2f}'.format(accuracy_score(testing_label_seq, y_pred) * 100))"
      ],
      "execution_count": 57,
      "outputs": [
        {
          "output_type": "stream",
          "text": [
            "Test Accuracy: 63.42\n"
          ],
          "name": "stdout"
        }
      ]
    },
    {
      "cell_type": "code",
      "metadata": {
        "colab": {
          "base_uri": "https://localhost:8080/",
          "height": 333
        },
        "id": "ZienIcogM5aG",
        "outputId": "4cadcf1f-c403-4c14-d342-0e78f99e0ae6"
      },
      "source": [
        "plot_history(history)"
      ],
      "execution_count": 58,
      "outputs": [
        {
          "output_type": "display_data",
          "data": {
            "image/png": "[encoded data removed]",
            "text/plain": [
              "<Figure size 864x360 with 2 Axes>"
            ]
          },
          "metadata": {
            "tags": [],
            "needs_background": "light"
          }
        }
      ]
    },
    {
      "cell_type": "code",
      "metadata": {
        "colab": {
          "base_uri": "https://localhost:8080/",
          "height": 450
        },
        "id": "HjH21HqeM7kD",
        "outputId": "c7e93d5d-64ea-45cc-e8a3-bcfbdc96e8f0"
      },
      "source": [
        "create_confusion_matrix(model_name)"
      ],
      "execution_count": 59,
      "outputs": [
        {
          "output_type": "display_data",
          "data": {
            "image/png": "[encoded data removed]",
            "text/plain": [
              "<Figure size 576x432 with 2 Axes>"
            ]
          },
          "metadata": {
            "tags": [],
            "needs_background": "light"
          }
        }
      ]
    },
    {
      "cell_type": "code",
      "metadata": {
        "colab": {
          "base_uri": "https://localhost:8080/",
          "height": 238
        },
        "id": "loZIYU4xM9Af",
        "outputId": "a508502c-7100-402a-ed67-91b51847d48f"
      },
      "source": [
        "generate_report(saved_model=model_name)"
      ],
      "execution_count": 60,
      "outputs": [
        {
          "output_type": "execute_result",
          "data": {
            "text/html": [
              "<div>\n",
              "<style scoped>\n",
              "    .dataframe tbody tr th:only-of-type {\n",
              "        vertical-align: middle;\n",
              "    }\n",
              "\n",
              "    .dataframe tbody tr th {\n",
              "        vertical-align: top;\n",
              "    }\n",
              "\n",
              "    .dataframe thead th {\n",
              "        text-align: right;\n",
              "    }\n",
              "</style>\n",
              "<table border=\"1\" class=\"dataframe\">\n",
              "  <thead>\n",
              "    <tr style=\"text-align: right;\">\n",
              "      <th></th>\n",
              "      <th>precision</th>\n",
              "      <th>recall</th>\n",
              "      <th>f1-score</th>\n",
              "      <th>support</th>\n",
              "    </tr>\n",
              "  </thead>\n",
              "  <tbody>\n",
              "    <tr>\n",
              "      <th>Negative</th>\n",
              "      <td>0.54</td>\n",
              "      <td>0.63</td>\n",
              "      <td>0.58</td>\n",
              "      <td>224.000000</td>\n",
              "    </tr>\n",
              "    <tr>\n",
              "      <th>Neutral</th>\n",
              "      <td>0.61</td>\n",
              "      <td>0.65</td>\n",
              "      <td>0.63</td>\n",
              "      <td>305.000000</td>\n",
              "    </tr>\n",
              "    <tr>\n",
              "      <th>Positive</th>\n",
              "      <td>0.76</td>\n",
              "      <td>0.62</td>\n",
              "      <td>0.68</td>\n",
              "      <td>313.000000</td>\n",
              "    </tr>\n",
              "    <tr>\n",
              "      <th>accuracy</th>\n",
              "      <td>0.63</td>\n",
              "      <td>0.63</td>\n",
              "      <td>0.63</td>\n",
              "      <td>0.634204</td>\n",
              "    </tr>\n",
              "    <tr>\n",
              "      <th>macro avg</th>\n",
              "      <td>0.64</td>\n",
              "      <td>0.63</td>\n",
              "      <td>0.63</td>\n",
              "      <td>842.000000</td>\n",
              "    </tr>\n",
              "    <tr>\n",
              "      <th>weighted avg</th>\n",
              "      <td>0.65</td>\n",
              "      <td>0.63</td>\n",
              "      <td>0.64</td>\n",
              "      <td>842.000000</td>\n",
              "    </tr>\n",
              "  </tbody>\n",
              "</table>\n",
              "</div>"
            ],
            "text/plain": [
              "              precision  recall  f1-score     support\n",
              "Negative           0.54    0.63      0.58  224.000000\n",
              "Neutral            0.61    0.65      0.63  305.000000\n",
              "Positive           0.76    0.62      0.68  313.000000\n",
              "accuracy           0.63    0.63      0.63    0.634204\n",
              "macro avg          0.64    0.63      0.63  842.000000\n",
              "weighted avg       0.65    0.63      0.64  842.000000"
            ]
          },
          "metadata": {
            "tags": []
          },
          "execution_count": 60
        }
      ]
    },
    {
      "cell_type": "markdown",
      "metadata": {
        "id": "IA0haaIxMBQK"
      },
      "source": [
        "# Model 2"
      ]
    },
    {
      "cell_type": "code",
      "metadata": {
        "colab": {
          "base_uri": "https://localhost:8080/"
        },
        "id": "ChREsf54JBwC",
        "outputId": "49658a2b-c8f1-4ac5-dbcc-3ad0a0444f69"
      },
      "source": [
        "model, callback_list, model_name = build_model(model_name=\"model2\", embedding_dim=128, dropout_rate=0.5, units=[150, 60], patience=5)\r\n",
        "history = fit_model(model=model, num_epochs=10, batch=32, callback_list=callback_list)"
      ],
      "execution_count": 85,
      "outputs": [
        {
          "output_type": "stream",
          "text": [
            "Model: \"sequential\"\n",
            "_________________________________________________________________\n",
            "Layer (type)                 Output Shape              Param #   \n",
            "=================================================================\n",
            "embedding (Embedding)        (None, 25, 128)           1825920   \n",
            "_________________________________________________________________\n",
            "spatial_dropout1d (SpatialDr (None, 25, 128)           0         \n",
            "_________________________________________________________________\n",
            "lstm (LSTM)                  (None, 25, 150)           167400    \n",
            "_________________________________________________________________\n",
            "lstm_1 (LSTM)                (None, 60)                50640     \n",
            "_________________________________________________________________\n",
            "dense (Dense)                (None, 200)               12200     \n",
            "_________________________________________________________________\n",
            "dense_1 (Dense)              (None, 3)                 603       \n",
            "=================================================================\n",
            "Total params: 2,056,763\n",
            "Trainable params: 2,056,763\n",
            "Non-trainable params: 0\n",
            "_________________________________________________________________\n",
            "Epoch 1/10\n",
            "190/190 [==============================] - 7s 24ms/step - loss: 1.0833 - accuracy: 0.3785 - val_loss: 0.9752 - val_accuracy: 0.4901\n",
            "\n",
            "Epoch 00001: val_accuracy improved from -inf to 0.49009, saving model to /content/drive/My Drive/Assignment/text-classification/model2.h5\n",
            "Epoch 2/10\n",
            "190/190 [==============================] - 4s 21ms/step - loss: 0.9171 - accuracy: 0.5322 - val_loss: 0.9123 - val_accuracy: 0.5469\n",
            "\n",
            "Epoch 00002: val_accuracy improved from 0.49009 to 0.54690, saving model to /content/drive/My Drive/Assignment/text-classification/model2.h5\n",
            "Epoch 3/10\n",
            "190/190 [==============================] - 4s 21ms/step - loss: 0.7478 - accuracy: 0.6253 - val_loss: 0.9402 - val_accuracy: 0.5343\n",
            "\n",
            "Epoch 00003: val_accuracy did not improve from 0.54690\n",
            "Epoch 4/10\n",
            "190/190 [==============================] - 4s 21ms/step - loss: 0.6286 - accuracy: 0.6990 - val_loss: 1.1673 - val_accuracy: 0.5687\n",
            "\n",
            "Epoch 00004: val_accuracy improved from 0.54690 to 0.56869, saving model to /content/drive/My Drive/Assignment/text-classification/model2.h5\n",
            "Epoch 5/10\n",
            "190/190 [==============================] - 4s 21ms/step - loss: 0.5141 - accuracy: 0.7808 - val_loss: 0.9457 - val_accuracy: 0.5845\n",
            "\n",
            "Epoch 00005: val_accuracy improved from 0.56869 to 0.58454, saving model to /content/drive/My Drive/Assignment/text-classification/model2.h5\n",
            "Epoch 6/10\n",
            "190/190 [==============================] - 4s 21ms/step - loss: 0.4040 - accuracy: 0.8482 - val_loss: 1.1055 - val_accuracy: 0.5773\n",
            "\n",
            "Epoch 00006: val_accuracy did not improve from 0.58454\n",
            "Epoch 7/10\n",
            "190/190 [==============================] - 4s 21ms/step - loss: 0.2820 - accuracy: 0.8986 - val_loss: 1.0988 - val_accuracy: 0.6050\n",
            "\n",
            "Epoch 00007: val_accuracy improved from 0.58454 to 0.60502, saving model to /content/drive/My Drive/Assignment/text-classification/model2.h5\n",
            "Epoch 00007: early stopping\n"
          ],
          "name": "stdout"
        }
      ]
    },
    {
      "cell_type": "code",
      "metadata": {
        "colab": {
          "base_uri": "https://localhost:8080/"
        },
        "id": "GYWF4hVeMIhA",
        "outputId": "c81d9065-cf4f-4b41-ee0f-7360409ab106"
      },
      "source": [
        "model = load_model(path + model_name + \".h5\")\r\n",
        "predictions = model.predict(test_padded)\r\n",
        "y_pred = np.argmax(predictions, axis=1)\r\n",
        "print('Test Accuracy: {0:.2f}'.format(accuracy_score(testing_label_seq, y_pred) * 100))"
      ],
      "execution_count": 87,
      "outputs": [
        {
          "output_type": "stream",
          "text": [
            "Test Accuracy: 60.10\n"
          ],
          "name": "stdout"
        }
      ]
    },
    {
      "cell_type": "code",
      "metadata": {
        "colab": {
          "base_uri": "https://localhost:8080/",
          "height": 333
        },
        "id": "bSn3ZfcsMKZL",
        "outputId": "fe719dfd-1961-420b-db1b-97458b7be49b"
      },
      "source": [
        "plot_history(history)"
      ],
      "execution_count": 88,
      "outputs": [
        {
          "output_type": "display_data",
          "data": {
            "image/png": "[encoded data removed]",
            "text/plain": [
              "<Figure size 864x360 with 2 Axes>"
            ]
          },
          "metadata": {
            "tags": [],
            "needs_background": "light"
          }
        }
      ]
    },
    {
      "cell_type": "code",
      "metadata": {
        "colab": {
          "base_uri": "https://localhost:8080/",
          "height": 450
        },
        "id": "1k7LS1S9MMaP",
        "outputId": "74490c7a-3a1a-4ad3-c4a3-4dff8e0ac48d"
      },
      "source": [
        "create_confusion_matrix(model_name)"
      ],
      "execution_count": 89,
      "outputs": [
        {
          "output_type": "display_data",
          "data": {
            "image/png": "[encoded data removed]",
            "text/plain": [
              "<Figure size 576x432 with 2 Axes>"
            ]
          },
          "metadata": {
            "tags": [],
            "needs_background": "light"
          }
        }
      ]
    },
    {
      "cell_type": "code",
      "metadata": {
        "colab": {
          "base_uri": "https://localhost:8080/",
          "height": 238
        },
        "id": "TcD-7zLpMNys",
        "outputId": "88723cf7-5769-473c-b2dd-18639cc14ecd"
      },
      "source": [
        "generate_report(saved_model=model_name)"
      ],
      "execution_count": 90,
      "outputs": [
        {
          "output_type": "execute_result",
          "data": {
            "text/html": [
              "<div>\n",
              "<style scoped>\n",
              "    .dataframe tbody tr th:only-of-type {\n",
              "        vertical-align: middle;\n",
              "    }\n",
              "\n",
              "    .dataframe tbody tr th {\n",
              "        vertical-align: top;\n",
              "    }\n",
              "\n",
              "    .dataframe thead th {\n",
              "        text-align: right;\n",
              "    }\n",
              "</style>\n",
              "<table border=\"1\" class=\"dataframe\">\n",
              "  <thead>\n",
              "    <tr style=\"text-align: right;\">\n",
              "      <th></th>\n",
              "      <th>precision</th>\n",
              "      <th>recall</th>\n",
              "      <th>f1-score</th>\n",
              "      <th>support</th>\n",
              "    </tr>\n",
              "  </thead>\n",
              "  <tbody>\n",
              "    <tr>\n",
              "      <th>Negative</th>\n",
              "      <td>0.67</td>\n",
              "      <td>0.30</td>\n",
              "      <td>0.42</td>\n",
              "      <td>224.00000</td>\n",
              "    </tr>\n",
              "    <tr>\n",
              "      <th>Neutral</th>\n",
              "      <td>0.51</td>\n",
              "      <td>0.80</td>\n",
              "      <td>0.62</td>\n",
              "      <td>305.00000</td>\n",
              "    </tr>\n",
              "    <tr>\n",
              "      <th>Positive</th>\n",
              "      <td>0.75</td>\n",
              "      <td>0.62</td>\n",
              "      <td>0.68</td>\n",
              "      <td>313.00000</td>\n",
              "    </tr>\n",
              "    <tr>\n",
              "      <th>accuracy</th>\n",
              "      <td>0.60</td>\n",
              "      <td>0.60</td>\n",
              "      <td>0.60</td>\n",
              "      <td>0.60095</td>\n",
              "    </tr>\n",
              "    <tr>\n",
              "      <th>macro avg</th>\n",
              "      <td>0.64</td>\n",
              "      <td>0.57</td>\n",
              "      <td>0.57</td>\n",
              "      <td>842.00000</td>\n",
              "    </tr>\n",
              "    <tr>\n",
              "      <th>weighted avg</th>\n",
              "      <td>0.64</td>\n",
              "      <td>0.60</td>\n",
              "      <td>0.59</td>\n",
              "      <td>842.00000</td>\n",
              "    </tr>\n",
              "  </tbody>\n",
              "</table>\n",
              "</div>"
            ],
            "text/plain": [
              "              precision  recall  f1-score    support\n",
              "Negative           0.67    0.30      0.42  224.00000\n",
              "Neutral            0.51    0.80      0.62  305.00000\n",
              "Positive           0.75    0.62      0.68  313.00000\n",
              "accuracy           0.60    0.60      0.60    0.60095\n",
              "macro avg          0.64    0.57      0.57  842.00000\n",
              "weighted avg       0.64    0.60      0.59  842.00000"
            ]
          },
          "metadata": {
            "tags": []
          },
          "execution_count": 90
        }
      ]
    },
    {
      "cell_type": "code",
      "metadata": {
        "id": "0kgXulLyOpb1"
      },
      "source": [
        ""
      ],
      "execution_count": null,
      "outputs": []
    }
  ]
}